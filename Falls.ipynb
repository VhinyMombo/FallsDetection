{
  "nbformat": 4,
  "nbformat_minor": 0,
  "metadata": {
    "colab": {
      "name": "Projet ML.ipynb",
      "provenance": [],
      "collapsed_sections": [],
      "include_colab_link": true
    },
    "kernelspec": {
      "display_name": "Python 3",
      "name": "python3"
    },
    "language_info": {
      "name": "python"
    }
  },
  "cells": [
    {
      "cell_type": "markdown",
      "metadata": {
        "id": "view-in-github",
        "colab_type": "text"
      },
      "source": [
        "<a href=\"https://colab.research.google.com/github/VhinyMombo/FallsDetection/blob/main/Falls.ipynb\" target=\"_parent\"><img src=\"https://colab.research.google.com/assets/colab-badge.svg\" alt=\"Open In Colab\"/></a>"
      ]
    },
    {
      "cell_type": "markdown",
      "metadata": {
        "id": "6D7mY2Slz7BC"
      },
      "source": [
        "### Projet de Machine Learning "
      ]
    },
    {
      "cell_type": "markdown",
      "metadata": {
        "id": "Q6bdfZHYzAJ-"
      },
      "source": [
        "##### **Chaïma BOUGHANMI**\n",
        "##### **Vhiny MOMBO**\n",
        "\n",
        "M2 Data Science\n",
        "\n"
      ]
    },
    {
      "cell_type": "code",
      "metadata": {
        "id": "-oY6YSNZVSyz",
        "colab": {
          "base_uri": "https://localhost:8080/"
        },
        "outputId": "02cbe64c-052b-4a4b-fe8e-3f5a0347423f"
      },
      "source": [
        "import random as rd\n",
        "import numpy as np\n",
        "import matplotlib.pyplot as plt\n",
        "from matplotlib.colors import ListedColormap\n",
        "import statistics as stat\n",
        "import math\n",
        "import scipy.stats as st\n",
        "import seaborn as sns\n",
        "import warnings\n",
        "import imblearn\n",
        "from imblearn.over_sampling import SMOTE  \n",
        "from imblearn.under_sampling import RandomUnderSampler\n",
        "from imblearn.pipeline import Pipeline\n",
        "from sklearn.model_selection import train_test_split\n",
        "\n",
        "warnings.filterwarnings(\"ignore\")\n",
        "np.random.seed(1234)"
      ],
      "execution_count": null,
      "outputs": [
        {
          "output_type": "stream",
          "name": "stderr",
          "text": [
            "/usr/local/lib/python3.7/dist-packages/sklearn/externals/six.py:31: FutureWarning: The module is deprecated in version 0.21 and will be removed in version 0.23 since we've dropped support for Python 2.7. Please rely on the official version of six (https://pypi.org/project/six/).\n",
            "  \"(https://pypi.org/project/six/).\", FutureWarning)\n",
            "/usr/local/lib/python3.7/dist-packages/sklearn/utils/deprecation.py:144: FutureWarning: The sklearn.neighbors.base module is  deprecated in version 0.22 and will be removed in version 0.24. The corresponding classes / functions should instead be imported from sklearn.neighbors. Anything that cannot be imported from sklearn.neighbors is now part of the private API.\n",
            "  warnings.warn(message, FutureWarning)\n"
          ]
        }
      ]
    },
    {
      "cell_type": "code",
      "metadata": {
        "colab": {
          "base_uri": "https://localhost:8080/",
          "height": 253
        },
        "id": "7-eY8Vu9pDyW",
        "outputId": "16e60eb2-dc9b-4e0a-ef02-44f6e40bf80c"
      },
      "source": [
        "import pandas as pd\n",
        "data = pd.read_csv('falldataproject.csv')\n",
        "data.head()"
      ],
      "execution_count": null,
      "outputs": [
        {
          "output_type": "execute_result",
          "data": {
            "text/html": [
              "<div>\n",
              "<style scoped>\n",
              "    .dataframe tbody tr th:only-of-type {\n",
              "        vertical-align: middle;\n",
              "    }\n",
              "\n",
              "    .dataframe tbody tr th {\n",
              "        vertical-align: top;\n",
              "    }\n",
              "\n",
              "    .dataframe thead th {\n",
              "        text-align: right;\n",
              "    }\n",
              "</style>\n",
              "<table border=\"1\" class=\"dataframe\">\n",
              "  <thead>\n",
              "    <tr style=\"text-align: right;\">\n",
              "      <th></th>\n",
              "      <th>obs</th>\n",
              "      <th>raw_feat_X1</th>\n",
              "      <th>raw_feat_X2</th>\n",
              "      <th>raw_feat_X3</th>\n",
              "      <th>raw_feat_X4</th>\n",
              "      <th>raw_feat_X5</th>\n",
              "      <th>raw_feat_X6</th>\n",
              "      <th>raw_feat_X7</th>\n",
              "      <th>raw_feat_X8</th>\n",
              "      <th>raw_feat_X9</th>\n",
              "      <th>raw_feat_X10</th>\n",
              "      <th>raw_feat_X11</th>\n",
              "      <th>raw_feat_X12</th>\n",
              "      <th>raw_feat_X13</th>\n",
              "      <th>raw_feat_X14</th>\n",
              "      <th>raw_feat_X15</th>\n",
              "      <th>raw_feat_X16</th>\n",
              "      <th>raw_feat_X17</th>\n",
              "      <th>raw_feat_X18</th>\n",
              "      <th>raw_feat_X19</th>\n",
              "      <th>raw_feat_X20</th>\n",
              "      <th>raw_feat_X21</th>\n",
              "      <th>raw_feat_X22</th>\n",
              "      <th>raw_feat_X23</th>\n",
              "      <th>raw_feat_X24</th>\n",
              "      <th>raw_feat_X25</th>\n",
              "      <th>raw_feat_X26</th>\n",
              "      <th>raw_feat_X27</th>\n",
              "      <th>raw_feat_X28</th>\n",
              "      <th>raw_feat_X29</th>\n",
              "      <th>fft_feat_X1</th>\n",
              "      <th>fft_feat_X2</th>\n",
              "      <th>fft_feat_X3</th>\n",
              "      <th>fft_feat_X4</th>\n",
              "      <th>fft_feat_X5</th>\n",
              "      <th>fft_feat_X6</th>\n",
              "      <th>fft_feat_X7</th>\n",
              "      <th>fft_feat_X8</th>\n",
              "      <th>fft_feat_X9</th>\n",
              "      <th>fft_feat_X10</th>\n",
              "      <th>...</th>\n",
              "      <th>fft_feat_X20</th>\n",
              "      <th>fft_feat_X21</th>\n",
              "      <th>fft_feat_X22</th>\n",
              "      <th>fft_feat_X23</th>\n",
              "      <th>fft_feat_X24</th>\n",
              "      <th>fft_feat_X25</th>\n",
              "      <th>fft_feat_X26</th>\n",
              "      <th>fft_feat_X27</th>\n",
              "      <th>fft_feat_X28</th>\n",
              "      <th>fft_feat_X29</th>\n",
              "      <th>deriv_feat_X1</th>\n",
              "      <th>deriv_feat_X2</th>\n",
              "      <th>deriv_feat_X3</th>\n",
              "      <th>deriv_feat_X4</th>\n",
              "      <th>deriv_feat_X5</th>\n",
              "      <th>deriv_feat_X6</th>\n",
              "      <th>deriv_feat_X7</th>\n",
              "      <th>deriv_feat_X8</th>\n",
              "      <th>deriv_feat_X9</th>\n",
              "      <th>deriv_feat_X10</th>\n",
              "      <th>deriv_feat_X11</th>\n",
              "      <th>deriv_feat_X12</th>\n",
              "      <th>deriv_feat_X13</th>\n",
              "      <th>deriv_feat_X14</th>\n",
              "      <th>deriv_feat_X15</th>\n",
              "      <th>deriv_feat_X16</th>\n",
              "      <th>deriv_feat_X17</th>\n",
              "      <th>deriv_feat_X18</th>\n",
              "      <th>deriv_feat_X19</th>\n",
              "      <th>deriv_feat_X20</th>\n",
              "      <th>deriv_feat_X21</th>\n",
              "      <th>deriv_feat_X22</th>\n",
              "      <th>deriv_feat_X23</th>\n",
              "      <th>deriv_feat_X24</th>\n",
              "      <th>deriv_feat_X25</th>\n",
              "      <th>deriv_feat_X26</th>\n",
              "      <th>deriv_feat_X27</th>\n",
              "      <th>deriv_feat_X28</th>\n",
              "      <th>deriv_feat_X29</th>\n",
              "      <th>FALL</th>\n",
              "    </tr>\n",
              "  </thead>\n",
              "  <tbody>\n",
              "    <tr>\n",
              "      <th>0</th>\n",
              "      <td>0</td>\n",
              "      <td>0.249744</td>\n",
              "      <td>-0.162770</td>\n",
              "      <td>0.223727</td>\n",
              "      <td>0.393904</td>\n",
              "      <td>-0.154366</td>\n",
              "      <td>0.128968</td>\n",
              "      <td>1.090661</td>\n",
              "      <td>0.913849</td>\n",
              "      <td>0.505526</td>\n",
              "      <td>-0.105793</td>\n",
              "      <td>-0.195484</td>\n",
              "      <td>-0.583576</td>\n",
              "      <td>-0.185653</td>\n",
              "      <td>0.223045</td>\n",
              "      <td>0.003446</td>\n",
              "      <td>-0.103057</td>\n",
              "      <td>0.480750</td>\n",
              "      <td>0.781277</td>\n",
              "      <td>-0.119297</td>\n",
              "      <td>-0.994378</td>\n",
              "      <td>0.152711</td>\n",
              "      <td>0.114531</td>\n",
              "      <td>0.527218</td>\n",
              "      <td>0.684310</td>\n",
              "      <td>0.226488</td>\n",
              "      <td>0.214075</td>\n",
              "      <td>0.525904</td>\n",
              "      <td>-1.095983</td>\n",
              "      <td>1.919093</td>\n",
              "      <td>-0.449884</td>\n",
              "      <td>0.433748</td>\n",
              "      <td>0.463316</td>\n",
              "      <td>0.274141</td>\n",
              "      <td>-0.218774</td>\n",
              "      <td>-0.048435</td>\n",
              "      <td>-1.033262</td>\n",
              "      <td>-0.812810</td>\n",
              "      <td>-0.683375</td>\n",
              "      <td>-0.455641</td>\n",
              "      <td>...</td>\n",
              "      <td>0.517962</td>\n",
              "      <td>0.052870</td>\n",
              "      <td>0.000862</td>\n",
              "      <td>-0.152333</td>\n",
              "      <td>-0.152333</td>\n",
              "      <td>0.087599</td>\n",
              "      <td>0.083742</td>\n",
              "      <td>0.790298</td>\n",
              "      <td>1.111155</td>\n",
              "      <td>-0.184972</td>\n",
              "      <td>0.657302</td>\n",
              "      <td>-0.227088</td>\n",
              "      <td>-0.252275</td>\n",
              "      <td>-1.100050</td>\n",
              "      <td>-0.103071</td>\n",
              "      <td>0.237298</td>\n",
              "      <td>2.326422</td>\n",
              "      <td>2.364639</td>\n",
              "      <td>1.891086</td>\n",
              "      <td>0.052099</td>\n",
              "      <td>-0.103057</td>\n",
              "      <td>0.131791</td>\n",
              "      <td>-0.116826</td>\n",
              "      <td>0.419307</td>\n",
              "      <td>-1.299307</td>\n",
              "      <td>-0.093961</td>\n",
              "      <td>-0.709053</td>\n",
              "      <td>-1.045640</td>\n",
              "      <td>0.283405</td>\n",
              "      <td>-0.676243</td>\n",
              "      <td>0.121241</td>\n",
              "      <td>0.734862</td>\n",
              "      <td>0.179370</td>\n",
              "      <td>0.402461</td>\n",
              "      <td>0.638393</td>\n",
              "      <td>0.344236</td>\n",
              "      <td>0.823239</td>\n",
              "      <td>-0.409350</td>\n",
              "      <td>1.425206</td>\n",
              "      <td>1</td>\n",
              "    </tr>\n",
              "    <tr>\n",
              "      <th>1</th>\n",
              "      <td>1</td>\n",
              "      <td>0.385843</td>\n",
              "      <td>-0.660978</td>\n",
              "      <td>-0.127798</td>\n",
              "      <td>-0.205710</td>\n",
              "      <td>-0.160936</td>\n",
              "      <td>0.111606</td>\n",
              "      <td>0.171391</td>\n",
              "      <td>2.889781</td>\n",
              "      <td>0.377333</td>\n",
              "      <td>0.602582</td>\n",
              "      <td>-0.204411</td>\n",
              "      <td>-0.724876</td>\n",
              "      <td>-0.186407</td>\n",
              "      <td>0.510015</td>\n",
              "      <td>0.003446</td>\n",
              "      <td>-0.019068</td>\n",
              "      <td>-0.818148</td>\n",
              "      <td>-0.664431</td>\n",
              "      <td>0.376651</td>\n",
              "      <td>-0.626828</td>\n",
              "      <td>0.387287</td>\n",
              "      <td>1.476641</td>\n",
              "      <td>0.866832</td>\n",
              "      <td>0.959403</td>\n",
              "      <td>0.311288</td>\n",
              "      <td>0.449926</td>\n",
              "      <td>0.367252</td>\n",
              "      <td>-1.158551</td>\n",
              "      <td>1.778148</td>\n",
              "      <td>-0.646348</td>\n",
              "      <td>-0.355812</td>\n",
              "      <td>-0.491957</td>\n",
              "      <td>0.167070</td>\n",
              "      <td>-0.219944</td>\n",
              "      <td>-0.051636</td>\n",
              "      <td>-1.178882</td>\n",
              "      <td>-0.871564</td>\n",
              "      <td>-0.704800</td>\n",
              "      <td>-0.455712</td>\n",
              "      <td>...</td>\n",
              "      <td>0.815871</td>\n",
              "      <td>0.104235</td>\n",
              "      <td>-0.111211</td>\n",
              "      <td>-0.152333</td>\n",
              "      <td>-0.152333</td>\n",
              "      <td>-0.190016</td>\n",
              "      <td>-0.186805</td>\n",
              "      <td>0.791372</td>\n",
              "      <td>-0.610703</td>\n",
              "      <td>1.517499</td>\n",
              "      <td>0.563679</td>\n",
              "      <td>-0.710151</td>\n",
              "      <td>-0.252275</td>\n",
              "      <td>0.192193</td>\n",
              "      <td>-0.018958</td>\n",
              "      <td>0.483344</td>\n",
              "      <td>-2.196963</td>\n",
              "      <td>2.772897</td>\n",
              "      <td>-1.889601</td>\n",
              "      <td>0.071416</td>\n",
              "      <td>-0.019068</td>\n",
              "      <td>0.147795</td>\n",
              "      <td>-0.053961</td>\n",
              "      <td>0.648177</td>\n",
              "      <td>-0.214179</td>\n",
              "      <td>-0.005129</td>\n",
              "      <td>0.642421</td>\n",
              "      <td>0.419777</td>\n",
              "      <td>0.476751</td>\n",
              "      <td>0.549323</td>\n",
              "      <td>-0.182778</td>\n",
              "      <td>0.357499</td>\n",
              "      <td>-0.056181</td>\n",
              "      <td>0.840313</td>\n",
              "      <td>0.605672</td>\n",
              "      <td>0.655029</td>\n",
              "      <td>1.052671</td>\n",
              "      <td>-0.177353</td>\n",
              "      <td>1.613721</td>\n",
              "      <td>1</td>\n",
              "    </tr>\n",
              "    <tr>\n",
              "      <th>2</th>\n",
              "      <td>2</td>\n",
              "      <td>3.344528</td>\n",
              "      <td>-4.535931</td>\n",
              "      <td>0.165140</td>\n",
              "      <td>-0.228745</td>\n",
              "      <td>3.203818</td>\n",
              "      <td>3.379462</td>\n",
              "      <td>1.089901</td>\n",
              "      <td>2.097552</td>\n",
              "      <td>0.877990</td>\n",
              "      <td>0.200807</td>\n",
              "      <td>3.039838</td>\n",
              "      <td>0.706419</td>\n",
              "      <td>2.898928</td>\n",
              "      <td>3.938749</td>\n",
              "      <td>4.481602</td>\n",
              "      <td>3.694243</td>\n",
              "      <td>0.174268</td>\n",
              "      <td>-0.122291</td>\n",
              "      <td>5.761222</td>\n",
              "      <td>0.255291</td>\n",
              "      <td>-4.421517</td>\n",
              "      <td>4.881914</td>\n",
              "      <td>0.187604</td>\n",
              "      <td>0.330619</td>\n",
              "      <td>3.273877</td>\n",
              "      <td>3.834530</td>\n",
              "      <td>2.093866</td>\n",
              "      <td>-0.330219</td>\n",
              "      <td>3.147863</td>\n",
              "      <td>1.553830</td>\n",
              "      <td>-0.333388</td>\n",
              "      <td>-0.292473</td>\n",
              "      <td>3.390496</td>\n",
              "      <td>3.013265</td>\n",
              "      <td>3.155365</td>\n",
              "      <td>-1.071414</td>\n",
              "      <td>-0.834429</td>\n",
              "      <td>-0.692839</td>\n",
              "      <td>-0.455690</td>\n",
              "      <td>...</td>\n",
              "      <td>0.856455</td>\n",
              "      <td>0.149476</td>\n",
              "      <td>-0.106898</td>\n",
              "      <td>-0.152333</td>\n",
              "      <td>-0.152333</td>\n",
              "      <td>3.199629</td>\n",
              "      <td>3.220504</td>\n",
              "      <td>2.343403</td>\n",
              "      <td>-0.186892</td>\n",
              "      <td>2.891512</td>\n",
              "      <td>3.091500</td>\n",
              "      <td>-4.351699</td>\n",
              "      <td>-0.252275</td>\n",
              "      <td>-0.502388</td>\n",
              "      <td>3.694409</td>\n",
              "      <td>4.205189</td>\n",
              "      <td>-2.773949</td>\n",
              "      <td>2.276907</td>\n",
              "      <td>-2.030001</td>\n",
              "      <td>0.049545</td>\n",
              "      <td>3.694243</td>\n",
              "      <td>1.661714</td>\n",
              "      <td>3.342800</td>\n",
              "      <td>3.810750</td>\n",
              "      <td>4.777408</td>\n",
              "      <td>4.019151</td>\n",
              "      <td>0.529799</td>\n",
              "      <td>-0.779201</td>\n",
              "      <td>4.150327</td>\n",
              "      <td>-1.376566</td>\n",
              "      <td>0.425260</td>\n",
              "      <td>8.093449</td>\n",
              "      <td>-0.684318</td>\n",
              "      <td>0.046744</td>\n",
              "      <td>3.440332</td>\n",
              "      <td>3.965586</td>\n",
              "      <td>2.916183</td>\n",
              "      <td>0.367674</td>\n",
              "      <td>3.952479</td>\n",
              "      <td>1</td>\n",
              "    </tr>\n",
              "    <tr>\n",
              "      <th>3</th>\n",
              "      <td>3</td>\n",
              "      <td>3.190676</td>\n",
              "      <td>-2.884463</td>\n",
              "      <td>-1.153080</td>\n",
              "      <td>-0.698292</td>\n",
              "      <td>1.868221</td>\n",
              "      <td>2.493077</td>\n",
              "      <td>2.546198</td>\n",
              "      <td>3.817391</td>\n",
              "      <td>3.711000</td>\n",
              "      <td>2.382995</td>\n",
              "      <td>1.777882</td>\n",
              "      <td>1.274712</td>\n",
              "      <td>1.653909</td>\n",
              "      <td>3.174737</td>\n",
              "      <td>2.624805</td>\n",
              "      <td>2.059189</td>\n",
              "      <td>-0.701393</td>\n",
              "      <td>-0.664431</td>\n",
              "      <td>5.406974</td>\n",
              "      <td>0.108272</td>\n",
              "      <td>-2.193047</td>\n",
              "      <td>2.430117</td>\n",
              "      <td>-0.718033</td>\n",
              "      <td>-0.140969</td>\n",
              "      <td>3.179922</td>\n",
              "      <td>3.157377</td>\n",
              "      <td>1.748342</td>\n",
              "      <td>1.111691</td>\n",
              "      <td>1.082920</td>\n",
              "      <td>0.997529</td>\n",
              "      <td>-0.380522</td>\n",
              "      <td>-0.392840</td>\n",
              "      <td>2.490419</td>\n",
              "      <td>1.764962</td>\n",
              "      <td>2.313468</td>\n",
              "      <td>-1.063596</td>\n",
              "      <td>-0.834205</td>\n",
              "      <td>-0.693290</td>\n",
              "      <td>-0.455694</td>\n",
              "      <td>...</td>\n",
              "      <td>0.329103</td>\n",
              "      <td>0.064652</td>\n",
              "      <td>0.021450</td>\n",
              "      <td>-0.152333</td>\n",
              "      <td>-0.152333</td>\n",
              "      <td>2.114421</td>\n",
              "      <td>2.130555</td>\n",
              "      <td>2.085249</td>\n",
              "      <td>-0.324901</td>\n",
              "      <td>2.729675</td>\n",
              "      <td>3.512803</td>\n",
              "      <td>-3.106884</td>\n",
              "      <td>1.376255</td>\n",
              "      <td>-0.470082</td>\n",
              "      <td>2.059326</td>\n",
              "      <td>3.056140</td>\n",
              "      <td>-1.043750</td>\n",
              "      <td>3.002674</td>\n",
              "      <td>-1.003764</td>\n",
              "      <td>0.050335</td>\n",
              "      <td>2.059189</td>\n",
              "      <td>1.714366</td>\n",
              "      <td>1.816143</td>\n",
              "      <td>3.300994</td>\n",
              "      <td>0.436898</td>\n",
              "      <td>1.755185</td>\n",
              "      <td>1.092913</td>\n",
              "      <td>-1.178860</td>\n",
              "      <td>1.056790</td>\n",
              "      <td>-3.652617</td>\n",
              "      <td>-4.743065</td>\n",
              "      <td>-0.774592</td>\n",
              "      <td>-1.076903</td>\n",
              "      <td>-0.818687</td>\n",
              "      <td>3.572430</td>\n",
              "      <td>3.409429</td>\n",
              "      <td>2.407953</td>\n",
              "      <td>1.233629</td>\n",
              "      <td>2.702845</td>\n",
              "      <td>1</td>\n",
              "    </tr>\n",
              "    <tr>\n",
              "      <th>4</th>\n",
              "      <td>4</td>\n",
              "      <td>2.338575</td>\n",
              "      <td>-2.699941</td>\n",
              "      <td>-0.069211</td>\n",
              "      <td>-0.025849</td>\n",
              "      <td>1.420714</td>\n",
              "      <td>2.137326</td>\n",
              "      <td>1.097388</td>\n",
              "      <td>2.101987</td>\n",
              "      <td>1.200319</td>\n",
              "      <td>0.312032</td>\n",
              "      <td>1.317087</td>\n",
              "      <td>0.853486</td>\n",
              "      <td>1.177130</td>\n",
              "      <td>2.563528</td>\n",
              "      <td>1.751019</td>\n",
              "      <td>1.334773</td>\n",
              "      <td>-0.030053</td>\n",
              "      <td>-0.303004</td>\n",
              "      <td>1.439395</td>\n",
              "      <td>-2.097028</td>\n",
              "      <td>-3.483214</td>\n",
              "      <td>0.523164</td>\n",
              "      <td>-0.604828</td>\n",
              "      <td>-0.140969</td>\n",
              "      <td>2.354009</td>\n",
              "      <td>2.583982</td>\n",
              "      <td>1.714995</td>\n",
              "      <td>0.358674</td>\n",
              "      <td>1.877456</td>\n",
              "      <td>0.674087</td>\n",
              "      <td>-0.265912</td>\n",
              "      <td>-0.362163</td>\n",
              "      <td>2.088569</td>\n",
              "      <td>1.310543</td>\n",
              "      <td>1.947086</td>\n",
              "      <td>-1.074871</td>\n",
              "      <td>-0.838513</td>\n",
              "      <td>-0.694551</td>\n",
              "      <td>-0.455697</td>\n",
              "      <td>...</td>\n",
              "      <td>0.612221</td>\n",
              "      <td>0.147907</td>\n",
              "      <td>-0.087642</td>\n",
              "      <td>-0.152333</td>\n",
              "      <td>-0.152333</td>\n",
              "      <td>1.890474</td>\n",
              "      <td>1.904120</td>\n",
              "      <td>1.949577</td>\n",
              "      <td>-0.179936</td>\n",
              "      <td>2.429733</td>\n",
              "      <td>1.546721</td>\n",
              "      <td>-2.605242</td>\n",
              "      <td>1.376255</td>\n",
              "      <td>-0.389316</td>\n",
              "      <td>1.334903</td>\n",
              "      <td>2.413230</td>\n",
              "      <td>-3.414942</td>\n",
              "      <td>2.329030</td>\n",
              "      <td>-2.312024</td>\n",
              "      <td>0.054360</td>\n",
              "      <td>1.334773</td>\n",
              "      <td>1.334000</td>\n",
              "      <td>1.083955</td>\n",
              "      <td>2.146238</td>\n",
              "      <td>0.002846</td>\n",
              "      <td>1.273051</td>\n",
              "      <td>1.261847</td>\n",
              "      <td>-0.912421</td>\n",
              "      <td>-0.103287</td>\n",
              "      <td>-2.777213</td>\n",
              "      <td>-2.766941</td>\n",
              "      <td>0.168817</td>\n",
              "      <td>-1.116162</td>\n",
              "      <td>-1.640847</td>\n",
              "      <td>1.527936</td>\n",
              "      <td>2.215856</td>\n",
              "      <td>2.353429</td>\n",
              "      <td>0.721413</td>\n",
              "      <td>2.933661</td>\n",
              "      <td>1</td>\n",
              "    </tr>\n",
              "  </tbody>\n",
              "</table>\n",
              "<p>5 rows × 89 columns</p>\n",
              "</div>"
            ],
            "text/plain": [
              "   obs  raw_feat_X1  raw_feat_X2  ...  deriv_feat_X28  deriv_feat_X29  FALL\n",
              "0    0     0.249744    -0.162770  ...       -0.409350        1.425206     1\n",
              "1    1     0.385843    -0.660978  ...       -0.177353        1.613721     1\n",
              "2    2     3.344528    -4.535931  ...        0.367674        3.952479     1\n",
              "3    3     3.190676    -2.884463  ...        1.233629        2.702845     1\n",
              "4    4     2.338575    -2.699941  ...        0.721413        2.933661     1\n",
              "\n",
              "[5 rows x 89 columns]"
            ]
          },
          "metadata": {},
          "execution_count": 2
        }
      ]
    },
    {
      "cell_type": "code",
      "metadata": {
        "colab": {
          "base_uri": "https://localhost:8080/"
        },
        "id": "uIP25cHtUdIx",
        "outputId": "283b8426-c0b3-45a7-e173-9a19380e098a"
      },
      "source": [
        "n_obs, n_features = data.shape\n",
        "print(n_obs, n_features)"
      ],
      "execution_count": null,
      "outputs": [
        {
          "output_type": "stream",
          "name": "stdout",
          "text": [
            "2821 89\n"
          ]
        }
      ]
    },
    {
      "cell_type": "markdown",
      "metadata": {
        "id": "FQiAtOeeXzzZ"
      },
      "source": [
        "On a 87 variables explicatives et 2821 observations. Le but étant de predire 'FALL'"
      ]
    },
    {
      "cell_type": "code",
      "metadata": {
        "colab": {
          "base_uri": "https://localhost:8080/",
          "height": 262
        },
        "id": "MER7U_zhZocp",
        "outputId": "d0c47bef-1103-4619-8cd2-959cdcc475c9"
      },
      "source": [
        "data['FALL'].value_counts()\n",
        "data['FALL'].value_counts().plot(kind = 'bar', color = 'red')\n",
        "plt.show()"
      ],
      "execution_count": null,
      "outputs": [
        {
          "output_type": "display_data",
          "data": {
            "image/png": "[encoded data removed]",
            "text/plain": [
              "<Figure size 432x288 with 1 Axes>"
            ]
          },
          "metadata": {
            "needs_background": "light"
          }
        }
      ]
    },
    {
      "cell_type": "code",
      "metadata": {
        "colab": {
          "base_uri": "https://localhost:8080/"
        },
        "id": "tcvviHoFaPar",
        "outputId": "c22a8708-79d9-46b4-ceab-9b6491df6f79"
      },
      "source": [
        "np.any(np.isnan(data))"
      ],
      "execution_count": null,
      "outputs": [
        {
          "output_type": "execute_result",
          "data": {
            "text/plain": [
              "False"
            ]
          },
          "metadata": {},
          "execution_count": 5
        }
      ]
    },
    {
      "cell_type": "markdown",
      "metadata": {
        "id": "61knO7JVZulg"
      },
      "source": [
        "Il y a 202 falls pour 2619 marches normales. Il n'y a pas de données manquantes. Le dataset n'est pas équilibré. On va essayer de detecter les chutes en utilisant les méthodes vues en classe. "
      ]
    },
    {
      "cell_type": "markdown",
      "metadata": {
        "id": "E6LG_tLtWfG5"
      },
      "source": [
        "## **Preparation des données**\n",
        "On note X les variables explicatives et Y la variables target qui est la variable 'FALL' du dataset.\n",
        "On prend pas la variable **'obs'** car elle correspond juste à un index pour les données.  \n"
      ]
    },
    {
      "cell_type": "code",
      "metadata": {
        "id": "FVDmgV2FZQ2l"
      },
      "source": [
        "from sklearn.model_selection import train_test_split\n",
        "X = data.loc[:,'raw_feat_X1':'deriv_feat_X29']\n",
        "Y = data.loc[:,'FALL']\n",
        "X_train_originel, X_test_originel, y_train_originel, y_test_originel =  train_test_split(X, \n",
        "                                                     Y, \n",
        "                                                     test_size=0.25)"
      ],
      "execution_count": null,
      "outputs": []
    },
    {
      "cell_type": "markdown",
      "metadata": {
        "id": "KRrIYLxrpMjV"
      },
      "source": [
        " - *X_train_originel* et *y_train_originel* désigne le data set sur lequelle nos modèles vont être entrainées.\n",
        "\n",
        "- *X_test_originel* et *y_test_originel* désigne le data set sur lequelle nos modèles vont être évaluées. \n",
        "\n",
        "Le jeu de données étant deséquilibré:\n",
        "\n",
        "On definit une fonction **balance_dataset** prend en paramètres le dataset, une variable booléenne *include_smote* qui permet de décider si on équilibre le data set ou non, et la variable *sampling_strategy_over*  est un réel entre 0 et 1 désignant le % d'oversampling de la classe minoritaire par rapport à la classe majoritaire."
      ]
    },
    {
      "cell_type": "code",
      "metadata": {
        "id": "_MOlo_-6VP5e"
      },
      "source": [
        "def balance_dataset(X = X_train_originel,Y = y_train_originel,include_smote = True,sampling_strategy_over = 0.1):\n",
        "\n",
        "  '''\n",
        "  Cette fonction  prend en paramètres le dataset, \n",
        "  une variable booléenne include_smote qui permet de décider si on équilibre le data set ou non, \n",
        "  et la variable sampling_strategy_over  est un réel entre 0 et 1 désignant \n",
        "  le % d'oversampling de la classe minoritaire par rapport à la classe majoritaire.\n",
        "\n",
        "  '''\n",
        "  Xt = X#data_set.loc[:,'raw_feat_X1':'deriv_feat_X29']\n",
        "  Yt = Y#data_set.loc[:,'FALL']\n",
        "  if include_smote == True:\n",
        "    over = SMOTE(sampling_strategy_over)\n",
        "    #under = RandomUnderSampler(sampling_strategy_under)\n",
        "    #steps = [('u', under), ('o', over)]\n",
        "    #pipeline = Pipeline(steps=steps)\n",
        "    # transform the dataset\n",
        "    X, Y = over.fit_resample(X, Y)\n",
        "    X = pd.DataFrame(X)\n",
        "    Y = pd.DataFrame(Y)\n",
        "    Xt = X.set_axis(list(Xt.loc[:,'raw_feat_X1':'deriv_feat_X29'].columns), axis = 1, inplace=False)\n",
        "    Yt = Y.set_axis(['FALL'], axis = 1, inplace = False)['FALL']\n",
        "    #oversample = SMOTE()\n",
        "    #X, Y = oversample.fit_resample(X, Y)\n",
        "  return Xt,Yt"
      ],
      "execution_count": null,
      "outputs": []
    },
    {
      "cell_type": "code",
      "metadata": {
        "id": "oel07WjFkAD-"
      },
      "source": [
        "X_train,y_train = balance_dataset(include_smote = True,sampling_strategy_over = 0.8)"
      ],
      "execution_count": null,
      "outputs": []
    },
    {
      "cell_type": "code",
      "metadata": {
        "colab": {
          "base_uri": "https://localhost:8080/",
          "height": 262
        },
        "id": "vK8NE1kdCQd7",
        "outputId": "757036d4-d9b0-4273-9b7f-23c23f199339"
      },
      "source": [
        "y_train.value_counts().plot(kind = 'bar', color = 'blue')\n",
        "plt.show()"
      ],
      "execution_count": null,
      "outputs": [
        {
          "output_type": "display_data",
          "data": {
            "image/png": "[encoded data removed]",
            "text/plain": [
              "<Figure size 432x288 with 1 Axes>"
            ]
          },
          "metadata": {
            "needs_background": "light"
          }
        }
      ]
    },
    {
      "cell_type": "markdown",
      "metadata": {
        "id": "WJfWtkDfbCYq"
      },
      "source": [
        "# **Test and train on different algorithmes**\n",
        "\n"
      ]
    },
    {
      "cell_type": "code",
      "metadata": {
        "id": "DYusnTm2tJqI"
      },
      "source": [
        "def eval_metrics(y,y_pred):\n",
        "  '''\n",
        "  Calcul les metrics (accuracy, 'precision, 'recall', 'f1' et 'auc') en fonctions \n",
        "  \n",
        "  des predictions fait par un modèle et des vrais valeurs.\n",
        "\n",
        "  Le tout est renvoyé dans un dictionnaire\n",
        "  '''\n",
        "\n",
        "  accuracy = metrics.accuracy_score(y,y_pred)\n",
        "  precision = metrics.precision_score(y,y_pred)\n",
        "  recall =metrics.recall_score(y,y_pred)\n",
        "  f1 = metrics.f1_score(y,y_pred)\n",
        "  auc = metrics.roc_auc_score(y,y_pred)\n",
        "  perf = {'accuracy' : accuracy,\n",
        "          'precision' : precision,\n",
        "          'recall' : recall,\n",
        "          'f1' : f1,\n",
        "          'auc' : auc}\n",
        "  return perf"
      ],
      "execution_count": null,
      "outputs": []
    },
    {
      "cell_type": "markdown",
      "metadata": {
        "id": "FlMSbfMOvavu"
      },
      "source": [
        "## **Entrainement Naif et pédictions des différents algorithmes.**\n",
        "\n",
        "\n",
        "Dans premier temps, on a délibérement entrainé les modèles sur le jeux de données de train puis fait la prédiction sur le jeu de données test_originel en utilisant les hyperparamètres par défaut et ne faisant pas des Cross-validations rendraient les algorithmes plus robustes. \n",
        "\n",
        "Ceci juste pour lister les algorithmes utilisées et les performances de base ces algorithmes sur le jeu de test."
      ]
    },
    {
      "cell_type": "markdown",
      "metadata": {
        "id": "rG2BeFVZck5i"
      },
      "source": [
        "### **I. Naives Bayes** "
      ]
    },
    {
      "cell_type": "code",
      "metadata": {
        "colab": {
          "base_uri": "https://localhost:8080/"
        },
        "id": "V3M-OOgxf17m",
        "outputId": "145b704a-6d06-4a56-f165-aa45f2b3576b"
      },
      "source": [
        "from sklearn.naive_bayes import GaussianNB\n",
        "from sklearn import metrics\n",
        "gnb = GaussianNB()\n",
        "gnbfit = gnb.fit(X_train, y_train) ## train\n",
        "#y_pred_test = gnbfit.predict(X_test) ## predict test\n",
        "y_pred = gnbfit.predict(X_test_originel) ## predict test originel\n",
        "y_pred_train = gnbfit.predict(X_train) ## predict train\n",
        "\n",
        "E_test = (y_test_originel != y_pred).sum()/len(y_test_originel)\n",
        "print(\"Error on the test data set %5.2f ->\", E_test)\n"
      ],
      "execution_count": null,
      "outputs": [
        {
          "output_type": "stream",
          "name": "stdout",
          "text": [
            "Error on the test data set %5.2f -> 0.028328611898016998\n"
          ]
        }
      ]
    },
    {
      "cell_type": "markdown",
      "metadata": {
        "id": "4bl7gigyrgrs"
      },
      "source": [
        "#### **I.1. Mesure de la performance**\n"
      ]
    },
    {
      "cell_type": "code",
      "metadata": {
        "colab": {
          "base_uri": "https://localhost:8080/"
        },
        "id": "K4Rpz6URkV5K",
        "outputId": "7871abf4-04b8-4b1d-ea80-546dae895d6c"
      },
      "source": [
        "perf_GN_train = eval_metrics(y=y_train, y_pred=y_pred_train)\n",
        "perf_GN_train"
      ],
      "execution_count": null,
      "outputs": [
        {
          "output_type": "execute_result",
          "data": {
            "text/plain": [
              "{'accuracy': 0.9505370265686829,\n",
              " 'auc': 0.9486091804959114,\n",
              " 'f1': 0.9436029648727039,\n",
              " 'precision': 0.9562377531025473,\n",
              " 'recall': 0.9312977099236641}"
            ]
          },
          "metadata": {},
          "execution_count": 12
        }
      ]
    },
    {
      "cell_type": "code",
      "metadata": {
        "colab": {
          "base_uri": "https://localhost:8080/"
        },
        "id": "2sc39lEYk38T",
        "outputId": "67e54b9a-fcda-4850-fbad-839b5632a21d"
      },
      "source": [
        "perf_GN_test = eval_metrics(y=y_test_originel,y_pred=y_pred)\n",
        "perf_GN_test"
      ],
      "execution_count": null,
      "outputs": [
        {
          "output_type": "execute_result",
          "data": {
            "text/plain": [
              "{'accuracy': 0.9716713881019831,\n",
              " 'auc': 0.9760177988384524,\n",
              " 'f1': 0.8387096774193548,\n",
              " 'precision': 0.7323943661971831,\n",
              " 'recall': 0.9811320754716981}"
            ]
          },
          "metadata": {},
          "execution_count": 13
        }
      ]
    },
    {
      "cell_type": "markdown",
      "metadata": {
        "id": "QhqePitzdg-Z"
      },
      "source": [
        "### **II. LDA** "
      ]
    },
    {
      "cell_type": "code",
      "metadata": {
        "colab": {
          "base_uri": "https://localhost:8080/"
        },
        "id": "GZw7xPL6nm_l",
        "outputId": "a73e7221-8807-45de-fff0-5099619bd32d"
      },
      "source": [
        "from sklearn.discriminant_analysis import  LinearDiscriminantAnalysis\n",
        "lda = LinearDiscriminantAnalysis(n_components=1)\n",
        "\n",
        "\n",
        "lda.fit(X_train, y_train)\n",
        "y_pred = lda.predict(X_test_originel) ## predict test\n",
        "y_pred_train = lda.predict(X_train) ## predict train\n",
        "\n",
        "\n",
        "E_test = (y_test_originel != y_pred).sum()/len(y_test_originel)\n",
        "print(\"Error on the test data set %5.2f ->\", E_test)"
      ],
      "execution_count": null,
      "outputs": [
        {
          "output_type": "stream",
          "name": "stdout",
          "text": [
            "Error on the test data set %5.2f -> 0.0113314447592068\n"
          ]
        }
      ]
    },
    {
      "cell_type": "markdown",
      "metadata": {
        "id": "Hn-AiOBOrejs"
      },
      "source": [
        "#### **II.1. Mesure de la performance**\n"
      ]
    },
    {
      "cell_type": "code",
      "metadata": {
        "colab": {
          "base_uri": "https://localhost:8080/"
        },
        "id": "xDnp_ODLoymn",
        "outputId": "c1f32b3f-5607-4caf-e002-cf4ca44f0d32"
      },
      "source": [
        "perf_LDA_train = eval_metrics(y=y_train, y_pred=y_pred_train)\n",
        "perf_LDA_train"
      ],
      "execution_count": null,
      "outputs": [
        {
          "output_type": "execute_result",
          "data": {
            "text/plain": [
              "{'accuracy': 0.9779536461277558,\n",
              " 'auc': 0.9764019502017763,\n",
              " 'f1': 0.9748711340206186,\n",
              " 'precision': 0.987597911227154,\n",
              " 'recall': 0.962468193384224}"
            ]
          },
          "metadata": {},
          "execution_count": 15
        }
      ]
    },
    {
      "cell_type": "code",
      "metadata": {
        "colab": {
          "base_uri": "https://localhost:8080/"
        },
        "id": "m1ljZvBjo2dB",
        "outputId": "0e582e5b-c0c7-47f2-9cfc-6389780000be"
      },
      "source": [
        "perf_LDA_test = eval_metrics(y=y_test_originel,y_pred=y_pred)\n",
        "perf_LDA_test"
      ],
      "execution_count": null,
      "outputs": [
        {
          "output_type": "execute_result",
          "data": {
            "text/plain": [
              "{'accuracy': 0.9886685552407932,\n",
              " 'auc': 0.9678696292871796,\n",
              " 'f1': 0.9259259259259259,\n",
              " 'precision': 0.9090909090909091,\n",
              " 'recall': 0.9433962264150944}"
            ]
          },
          "metadata": {},
          "execution_count": 16
        }
      ]
    },
    {
      "cell_type": "markdown",
      "metadata": {
        "id": "GC1kNjpKdnqX"
      },
      "source": [
        "### **III. QDA** "
      ]
    },
    {
      "cell_type": "code",
      "metadata": {
        "colab": {
          "base_uri": "https://localhost:8080/"
        },
        "id": "FZHagckaqGnu",
        "outputId": "d4aee370-2a97-43c7-a8d1-567b36045d6a"
      },
      "source": [
        "from sklearn.discriminant_analysis import  QuadraticDiscriminantAnalysis\n",
        "qda = QuadraticDiscriminantAnalysis()\n",
        "\n",
        "\n",
        "qda.fit(X_train, y_train)\n",
        "y_pred = qda.predict(X_test_originel) ## predict test\n",
        "y_pred_train = qda.predict(X_train) ## predict train\n",
        "\n",
        "\n",
        "E_test = (y_test_originel != y_pred).sum()/len(y_test_originel)\n",
        "print(\"Error on the test data set %5.2f ->\", E_test)"
      ],
      "execution_count": null,
      "outputs": [
        {
          "output_type": "stream",
          "name": "stdout",
          "text": [
            "Error on the test data set %5.2f -> 0.009915014164305949\n"
          ]
        }
      ]
    },
    {
      "cell_type": "markdown",
      "metadata": {
        "id": "OQVvVOf6rE_d"
      },
      "source": [
        "#### **III.1. Mesure de la performance**\n"
      ]
    },
    {
      "cell_type": "code",
      "metadata": {
        "colab": {
          "base_uri": "https://localhost:8080/"
        },
        "id": "2hPnimOqqew8",
        "outputId": "6d5716da-430b-4f92-c434-7a3f2c88d9d9"
      },
      "source": [
        "perf_QDA_train = eval_metrics(y=y_train,y_pred=y_pred_train)\n",
        "perf_QDA_train"
      ],
      "execution_count": null,
      "outputs": [
        {
          "output_type": "execute_result",
          "data": {
            "text/plain": [
              "{'accuracy': 0.9963256076879593,\n",
              " 'auc': 0.996630051848343,\n",
              " 'f1': 0.9958795562599049,\n",
              " 'precision': 0.9924194567277321,\n",
              " 'recall': 0.9993638676844784}"
            ]
          },
          "metadata": {},
          "execution_count": 18
        }
      ]
    },
    {
      "cell_type": "code",
      "metadata": {
        "colab": {
          "base_uri": "https://localhost:8080/"
        },
        "id": "Mgm7XKoTqdIh",
        "outputId": "ac2664c5-9521-457a-a3b8-d7817d78d7a1"
      },
      "source": [
        "perf_QDA_test = eval_metrics(y=y_test_originel,y_pred=y_pred)\n",
        "perf_QDA_test"
      ],
      "execution_count": null,
      "outputs": [
        {
          "output_type": "execute_result",
          "data": {
            "text/plain": [
              "{'accuracy': 0.990084985835694,\n",
              " 'auc': 0.9773035915513305,\n",
              " 'f1': 0.9357798165137615,\n",
              " 'precision': 0.9107142857142857,\n",
              " 'recall': 0.9622641509433962}"
            ]
          },
          "metadata": {},
          "execution_count": 19
        }
      ]
    },
    {
      "cell_type": "markdown",
      "metadata": {
        "id": "lfFMM1Ccc6UM"
      },
      "source": [
        "### **IV) Logistic Regression**"
      ]
    },
    {
      "cell_type": "code",
      "metadata": {
        "colab": {
          "base_uri": "https://localhost:8080/"
        },
        "id": "Rr4ETDksrmYX",
        "outputId": "cd07247a-7b7e-47e1-eedf-5e804430df5e"
      },
      "source": [
        "from sklearn import linear_model\n",
        "logreg=linear_model.LogisticRegression();\n",
        "\n",
        "logreg.fit(X_train, y_train)\n",
        "y_pred = logreg.predict(X_test_originel) ## predict test\n",
        "y_pred_train = logreg.predict(X_train) ## predict train\n",
        "\n",
        "\n",
        "E_test = (y_test_originel != y_pred).sum()/len(y_test_originel)\n",
        "print(\"Error on the test data set %5.2f ->\", E_test)\n"
      ],
      "execution_count": null,
      "outputs": [
        {
          "output_type": "stream",
          "name": "stdout",
          "text": [
            "Error on the test data set %5.2f -> 0.0084985835694051\n"
          ]
        }
      ]
    },
    {
      "cell_type": "markdown",
      "metadata": {
        "id": "oV17FHFRxq9p"
      },
      "source": [
        "#### **IV.1. Mesure de la performance**\n"
      ]
    },
    {
      "cell_type": "code",
      "metadata": {
        "colab": {
          "base_uri": "https://localhost:8080/"
        },
        "id": "-ej-gWw4uc2w",
        "outputId": "19fb5f0b-2980-44d4-f2d4-1430b8cec122"
      },
      "source": [
        "#### train\n",
        "perf_logreg_train = eval_metrics(y=y_train,y_pred=y_pred_train)\n",
        "perf_logreg_train"
      ],
      "execution_count": null,
      "outputs": [
        {
          "output_type": "execute_result",
          "data": {
            "text/plain": [
              "{'accuracy': 0.9841718485019785,\n",
              " 'auc': 0.9832081776977057,\n",
              " 'f1': 0.9820512820512821,\n",
              " 'precision': 0.9896640826873385,\n",
              " 'recall': 0.9745547073791349}"
            ]
          },
          "metadata": {},
          "execution_count": 21
        }
      ]
    },
    {
      "cell_type": "code",
      "metadata": {
        "colab": {
          "base_uri": "https://localhost:8080/"
        },
        "id": "gIqGxYk7xfBh",
        "outputId": "20b6e46a-2df3-41f2-ac74-83d91cf98cae"
      },
      "source": [
        "#### test\n",
        "perf_logreg_test = eval_metrics(y=y_test_originel,y_pred=y_pred)\n",
        "perf_logreg_test"
      ],
      "execution_count": null,
      "outputs": [
        {
          "output_type": "execute_result",
          "data": {
            "text/plain": [
              "{'accuracy': 0.9915014164305949,\n",
              " 'auc': 0.9780692883354041,\n",
              " 'f1': 0.9444444444444444,\n",
              " 'precision': 0.9272727272727272,\n",
              " 'recall': 0.9622641509433962}"
            ]
          },
          "metadata": {},
          "execution_count": 22
        }
      ]
    },
    {
      "cell_type": "markdown",
      "metadata": {
        "id": "B-AwV1L9c0Xf"
      },
      "source": [
        "### **V) K-Nearest Neighbour**"
      ]
    },
    {
      "cell_type": "code",
      "metadata": {
        "colab": {
          "base_uri": "https://localhost:8080/"
        },
        "id": "1kHHWlEKyW05",
        "outputId": "ba76f25e-fdf7-4a95-e258-3a622362145e"
      },
      "source": [
        "from sklearn.neighbors import KNeighborsClassifier\n",
        "knn=KNeighborsClassifier(n_neighbors=5); ##\n",
        "knn.fit(X_train, y_train)\n",
        "\n",
        "y_pred = knn.predict(X_test_originel) ## predict test\n",
        "y_pred_train = knn.predict(X_train) ## predict train\n",
        "\n",
        "E_test = (y_test_originel != y_pred).sum()/len(y_test_originel)\n",
        "print(\"Error on the test data set %5.2f ->\", E_test)\n"
      ],
      "execution_count": null,
      "outputs": [
        {
          "output_type": "stream",
          "name": "stdout",
          "text": [
            "Error on the test data set %5.2f -> 0.04107648725212465\n"
          ]
        }
      ]
    },
    {
      "cell_type": "markdown",
      "metadata": {
        "id": "TTuOBRfwz_lO"
      },
      "source": [
        "#### **V.1. Mesure de la performance**"
      ]
    },
    {
      "cell_type": "code",
      "metadata": {
        "colab": {
          "base_uri": "https://localhost:8080/"
        },
        "id": "7Cyeti78znhx",
        "outputId": "616a8e3a-9b66-4600-f14c-3493fd3853ce"
      },
      "source": [
        "#### train\n",
        "perf_knn_train = eval_metrics(y=y_train,y_pred=y_pred_train)\n",
        "perf_knn_train"
      ],
      "execution_count": null,
      "outputs": [
        {
          "output_type": "execute_result",
          "data": {
            "text/plain": [
              "{'accuracy': 0.9810627473148672,\n",
              " 'auc': 0.9828965828758098,\n",
              " 'f1': 0.9791212215643502,\n",
              " 'precision': 0.9596823457544288,\n",
              " 'recall': 0.9993638676844784}"
            ]
          },
          "metadata": {},
          "execution_count": 24
        }
      ]
    },
    {
      "cell_type": "code",
      "metadata": {
        "colab": {
          "base_uri": "https://localhost:8080/"
        },
        "id": "ca8L4XKfzxvU",
        "outputId": "705c447f-f53b-4ef7-a62b-9837724486bc"
      },
      "source": [
        "#### test\n",
        "perf_knn_test = eval_metrics(y=y_test_originel,y_pred=y_pred)\n",
        "perf_knn_test"
      ],
      "execution_count": null,
      "outputs": [
        {
          "output_type": "execute_result",
          "data": {
            "text/plain": [
              "{'accuracy': 0.9589235127478754,\n",
              " 'auc': 0.9431217313415585,\n",
              " 'f1': 0.7716535433070866,\n",
              " 'precision': 0.6621621621621622,\n",
              " 'recall': 0.9245283018867925}"
            ]
          },
          "metadata": {},
          "execution_count": 25
        }
      ]
    },
    {
      "cell_type": "markdown",
      "metadata": {
        "id": "g25Fhycve-ud"
      },
      "source": [
        "### **VI) Decisions Tree** "
      ]
    },
    {
      "cell_type": "code",
      "metadata": {
        "colab": {
          "base_uri": "https://localhost:8080/"
        },
        "id": "lNL08mua0h0R",
        "outputId": "cb4e533a-12ff-48dc-9b33-fd994c37b311"
      },
      "source": [
        "from sklearn import tree\n",
        "from sklearn.tree import DecisionTreeClassifier\n",
        "from sklearn.tree import export_text\n",
        "\n",
        "tree_clf = tree.DecisionTreeClassifier()\n",
        "tree_clf.fit(X_train,y_train)\n",
        "\n",
        "y_pred = tree_clf.predict(X_test_originel) ## predict test\n",
        "y_pred_train = tree_clf.predict(X_train) ## predict train\n",
        "\n",
        "E_test = (y_test_originel != y_pred).sum()/len(y_test_originel)\n",
        "print(\"Error on the test data set %5.2f ->\", E_test)\n"
      ],
      "execution_count": null,
      "outputs": [
        {
          "output_type": "stream",
          "name": "stdout",
          "text": [
            "Error on the test data set %5.2f -> 0.019830028328611898\n"
          ]
        }
      ]
    },
    {
      "cell_type": "markdown",
      "metadata": {
        "id": "Wuko_G_I4iII"
      },
      "source": [
        "#### **VI.1. Mesure de la performance**"
      ]
    },
    {
      "cell_type": "code",
      "metadata": {
        "colab": {
          "base_uri": "https://localhost:8080/"
        },
        "id": "spB7HZ1y12Qv",
        "outputId": "36a24d3b-2ace-42e2-922e-3ac948490455"
      },
      "source": [
        "#### train\n",
        "perf_tree_train = eval_metrics(y=y_train,y_pred=y_pred_train)\n",
        "perf_tree_train"
      ],
      "execution_count": null,
      "outputs": [
        {
          "output_type": "execute_result",
          "data": {
            "text/plain": [
              "{'accuracy': 1.0, 'auc': 1.0, 'f1': 1.0, 'precision': 1.0, 'recall': 1.0}"
            ]
          },
          "metadata": {},
          "execution_count": 27
        }
      ]
    },
    {
      "cell_type": "code",
      "metadata": {
        "colab": {
          "base_uri": "https://localhost:8080/"
        },
        "id": "nd9wZoQB4N2h",
        "outputId": "378e431f-9dc5-4f51-bfb7-83da60f5cd25"
      },
      "source": [
        "#### test\n",
        "perf_tree_test = eval_metrics(y=y_test_originel,y_pred=y_pred)\n",
        "perf_tree_test"
      ],
      "execution_count": null,
      "outputs": [
        {
          "output_type": "execute_result",
          "data": {
            "text/plain": [
              "{'accuracy': 0.9801699716713881,\n",
              " 'auc': 0.9372706521425064,\n",
              " 'f1': 0.8703703703703703,\n",
              " 'precision': 0.8545454545454545,\n",
              " 'recall': 0.8867924528301887}"
            ]
          },
          "metadata": {},
          "execution_count": 28
        }
      ]
    },
    {
      "cell_type": "markdown",
      "metadata": {
        "id": "ZlRx8pCXfF1x"
      },
      "source": [
        "### **VII) Random Forest** "
      ]
    },
    {
      "cell_type": "code",
      "metadata": {
        "colab": {
          "base_uri": "https://localhost:8080/"
        },
        "id": "I3POLAewwavG",
        "outputId": "00c690d1-318b-4091-9c69-141310a5fb91"
      },
      "source": [
        "from sklearn.ensemble import RandomForestClassifier\n",
        "\n",
        "RF = RandomForestClassifier(max_depth=10, random_state=0, oob_score = True)\n",
        "RF.fit(X_train, y_train);\n",
        "\n",
        "y_pred = RF.predict(X_test_originel)\n",
        "y_pred_train = RF.predict(X_train)\n",
        "\n",
        "E_test = (y_test_originel != y_pred).sum()/len(y_test_originel)\n",
        "print(\"Error on the test data set %5.2f ->\", E_test)"
      ],
      "execution_count": null,
      "outputs": [
        {
          "output_type": "stream",
          "name": "stdout",
          "text": [
            "Error on the test data set %5.2f -> 0.009915014164305949\n"
          ]
        }
      ]
    },
    {
      "cell_type": "markdown",
      "metadata": {
        "id": "kxuZcAT_x5il"
      },
      "source": [
        "#### **VII.1. Mesure de la performance**"
      ]
    },
    {
      "cell_type": "code",
      "metadata": {
        "colab": {
          "base_uri": "https://localhost:8080/"
        },
        "id": "enJEuv--yC4g",
        "outputId": "4db4feba-22b4-43cd-cb81-1ae501ea59fd"
      },
      "source": [
        "#### train\n",
        "perf_RF_train = eval_metrics(y=y_train,y_pred=y_pred_train)\n",
        "perf_RF_train"
      ],
      "execution_count": null,
      "outputs": [
        {
          "output_type": "execute_result",
          "data": {
            "text/plain": [
              "{'accuracy': 1.0, 'auc': 1.0, 'f1': 1.0, 'precision': 1.0, 'recall': 1.0}"
            ]
          },
          "metadata": {},
          "execution_count": 30
        }
      ]
    },
    {
      "cell_type": "code",
      "metadata": {
        "colab": {
          "base_uri": "https://localhost:8080/"
        },
        "id": "SQMP-iPWyHKr",
        "outputId": "95f6c198-116b-4725-f2fb-555c40554e69"
      },
      "source": [
        "#### test\n",
        "perf_RF_test = eval_metrics(y=y_test_originel,y_pred=y_pred)\n",
        "perf_RF_test"
      ],
      "execution_count": null,
      "outputs": [
        {
          "output_type": "execute_result",
          "data": {
            "text/plain": [
              "{'accuracy': 0.990084985835694,\n",
              " 'auc': 0.9512987951110983,\n",
              " 'f1': 0.9320388349514563,\n",
              " 'precision': 0.96,\n",
              " 'recall': 0.9056603773584906}"
            ]
          },
          "metadata": {},
          "execution_count": 31
        }
      ]
    },
    {
      "cell_type": "code",
      "metadata": {
        "colab": {
          "base_uri": "https://localhost:8080/",
          "height": 250
        },
        "id": "MaPtVdsPyoiN",
        "outputId": "e25a2028-459f-48ac-868e-93f2bb97e4a0"
      },
      "source": [
        "import pandas as pd\n",
        "\n",
        "importances = RF.feature_importances_\n",
        "#std = np.std([tree.feature_importances_ for tree in RF.estimators_], axis=0)\n",
        "forest_importances = pd.Series(importances, index=X_train.columns)\n",
        "\n",
        "fig, ax = plt.subplots(figsize = (15,5))\n",
        "forest_importances.sort_values(ascending=False).plot.bar()\n",
        "ax.set_title(\"Feature importances using MDI\")\n",
        "ax.set_ylabel(\"Mean decrease in impurity\")\n",
        "fig.tight_layout()"
      ],
      "execution_count": null,
      "outputs": [
        {
          "output_type": "display_data",
          "data": {
            "image/png": "[encoded data removed]",
            "text/plain": [
              "<Figure size 1080x360 with 1 Axes>"
            ]
          },
          "metadata": {
            "needs_background": "light"
          }
        }
      ]
    },
    {
      "cell_type": "markdown",
      "metadata": {
        "id": "hAfVOUDlfNiF"
      },
      "source": [
        "### **VIII) ADABOOST** "
      ]
    },
    {
      "cell_type": "code",
      "metadata": {
        "colab": {
          "base_uri": "https://localhost:8080/"
        },
        "id": "6EqB75E325zh",
        "outputId": "399fa03a-d4ba-40b1-cc1f-cb65677f4ea0"
      },
      "source": [
        "#### Training data\n",
        "from sklearn.ensemble import AdaBoostClassifier\n",
        "Ab = AdaBoostClassifier(n_estimators=100, random_state=0)\n",
        "Ab.fit(X_train, y_train)\n",
        "y_pred_train=Ab.predict(X_train);\n",
        "y_pred=Ab.predict(X_test_originel);\n",
        "E_test=(y_test_originel != y_pred).sum()/len(y_test_originel)\n",
        "print(\"Boost Error on the complete training set %5.2f->\",E_test)"
      ],
      "execution_count": null,
      "outputs": [
        {
          "output_type": "stream",
          "name": "stdout",
          "text": [
            "Boost Error on the complete training set %5.2f-> 0.009915014164305949\n"
          ]
        }
      ]
    },
    {
      "cell_type": "markdown",
      "metadata": {
        "id": "I4xL3Hyb3hb6"
      },
      "source": [
        "#### **VIII.1. Mesure de la performance**"
      ]
    },
    {
      "cell_type": "code",
      "metadata": {
        "colab": {
          "base_uri": "https://localhost:8080/"
        },
        "id": "Js9W5TWt3OTX",
        "outputId": "f6e3b06b-5af5-4c08-a98d-5db197c4a705"
      },
      "source": [
        "#### train\n",
        "perf_ada_train = eval_metrics(y=y_train,y_pred=y_pred_train)\n",
        "perf_ada_train"
      ],
      "execution_count": null,
      "outputs": [
        {
          "output_type": "execute_result",
          "data": {
            "text/plain": [
              "{'accuracy': 1.0, 'auc': 1.0, 'f1': 1.0, 'precision': 1.0, 'recall': 1.0}"
            ]
          },
          "metadata": {},
          "execution_count": 34
        }
      ]
    },
    {
      "cell_type": "code",
      "metadata": {
        "colab": {
          "base_uri": "https://localhost:8080/"
        },
        "id": "cxmfo7kg38NR",
        "outputId": "0a4bfd84-c2e2-469c-90b8-4897ec01fa4a"
      },
      "source": [
        "#### test\n",
        "perf_ada_test = eval_metrics(y=y_test_originel,y_pred=y_pred)\n",
        "perf_ada_test"
      ],
      "execution_count": null,
      "outputs": [
        {
          "output_type": "execute_result",
          "data": {
            "text/plain": [
              "{'accuracy': 0.990084985835694,\n",
              " 'auc': 0.9686353260712531,\n",
              " 'f1': 0.9345794392523364,\n",
              " 'precision': 0.9259259259259259,\n",
              " 'recall': 0.9433962264150944}"
            ]
          },
          "metadata": {},
          "execution_count": 35
        }
      ]
    },
    {
      "cell_type": "markdown",
      "metadata": {
        "id": "U8wLf5XyfYzz"
      },
      "source": [
        "### **IX) Gradient Boosting** "
      ]
    },
    {
      "cell_type": "code",
      "metadata": {
        "colab": {
          "base_uri": "https://localhost:8080/"
        },
        "id": "iBSBDaQZ4Qqh",
        "outputId": "404bb60f-7aab-40b5-be34-51a50ec67dab"
      },
      "source": [
        "from sklearn.datasets import make_classification\n",
        "from sklearn.ensemble import GradientBoostingClassifier\n",
        "GB = GradientBoostingClassifier(random_state=0)\n",
        "GB = GradientBoostingClassifier(random_state=0)\n",
        "GB.fit(X_train, y_train)\n",
        "y_pred=GB.predict(X_test_originel)\n",
        "E_test=(y_test_originel != y_pred).sum()/len(y_test_originel)\n",
        "print(\"Boost Error on the complete test set %5.2f->\",E_test)"
      ],
      "execution_count": null,
      "outputs": [
        {
          "output_type": "stream",
          "name": "stdout",
          "text": [
            "Boost Error on the complete test set %5.2f-> 0.009915014164305949\n"
          ]
        }
      ]
    },
    {
      "cell_type": "markdown",
      "metadata": {
        "id": "tPPSvIbN47gT"
      },
      "source": [
        "#### **IX.1. Mesure de la performance**"
      ]
    },
    {
      "cell_type": "code",
      "metadata": {
        "colab": {
          "base_uri": "https://localhost:8080/"
        },
        "id": "zyO1NU6V4WXE",
        "outputId": "d7a77e82-aadb-4ff2-8ca5-d5644d815772"
      },
      "source": [
        "#### train\n",
        "perf_GB_train = eval_metrics(y=y_train,y_pred=y_pred_train)\n",
        "perf_GB_train"
      ],
      "execution_count": null,
      "outputs": [
        {
          "output_type": "execute_result",
          "data": {
            "text/plain": [
              "{'accuracy': 1.0, 'auc': 1.0, 'f1': 1.0, 'precision': 1.0, 'recall': 1.0}"
            ]
          },
          "metadata": {},
          "execution_count": 37
        }
      ]
    },
    {
      "cell_type": "code",
      "metadata": {
        "colab": {
          "base_uri": "https://localhost:8080/"
        },
        "id": "KCUC27YD5HPX",
        "outputId": "aea1b2ca-6ae9-46d3-955b-a380b7d48912"
      },
      "source": [
        "#### test\n",
        "perf_GB_test = eval_metrics(y=y_test_originel,y_pred=y_pred)\n",
        "perf_GB_test"
      ],
      "execution_count": null,
      "outputs": [
        {
          "output_type": "execute_result",
          "data": {
            "text/plain": [
              "{'accuracy': 0.990084985835694,\n",
              " 'auc': 0.9599670605911756,\n",
              " 'f1': 0.9333333333333333,\n",
              " 'precision': 0.9423076923076923,\n",
              " 'recall': 0.9245283018867925}"
            ]
          },
          "metadata": {},
          "execution_count": 38
        }
      ]
    },
    {
      "cell_type": "markdown",
      "metadata": {
        "id": "nbFXOe3r7lDQ"
      },
      "source": [
        "### **Recapitulatif des performances des algorithmes**"
      ]
    },
    {
      "cell_type": "code",
      "metadata": {
        "colab": {
          "base_uri": "https://localhost:8080/",
          "height": 204
        },
        "id": "3la0phzr5wY4",
        "outputId": "38e7aa46-4ae3-4490-92c8-da1a567011f7"
      },
      "source": [
        "pd.DataFrame( {'gnb': perf_GN_train, \n",
        "               'LDA': perf_LDA_train, \n",
        "               'QDA' : perf_QDA_train, \n",
        "               'logreg' : perf_logreg_train,\n",
        "               'knn' : perf_knn_train,\n",
        "               'tree' : perf_tree_train,\n",
        "               'RF' : perf_RF_train,\n",
        "               'Adaboost' : perf_ada_train,\n",
        "               'GB' : perf_GB_train})"
      ],
      "execution_count": null,
      "outputs": [
        {
          "output_type": "execute_result",
          "data": {
            "text/html": [
              "<div>\n",
              "<style scoped>\n",
              "    .dataframe tbody tr th:only-of-type {\n",
              "        vertical-align: middle;\n",
              "    }\n",
              "\n",
              "    .dataframe tbody tr th {\n",
              "        vertical-align: top;\n",
              "    }\n",
              "\n",
              "    .dataframe thead th {\n",
              "        text-align: right;\n",
              "    }\n",
              "</style>\n",
              "<table border=\"1\" class=\"dataframe\">\n",
              "  <thead>\n",
              "    <tr style=\"text-align: right;\">\n",
              "      <th></th>\n",
              "      <th>gnb</th>\n",
              "      <th>LDA</th>\n",
              "      <th>QDA</th>\n",
              "      <th>logreg</th>\n",
              "      <th>knn</th>\n",
              "      <th>tree</th>\n",
              "      <th>RF</th>\n",
              "      <th>Adaboost</th>\n",
              "      <th>GB</th>\n",
              "    </tr>\n",
              "  </thead>\n",
              "  <tbody>\n",
              "    <tr>\n",
              "      <th>accuracy</th>\n",
              "      <td>0.950537</td>\n",
              "      <td>0.977954</td>\n",
              "      <td>0.996326</td>\n",
              "      <td>0.984172</td>\n",
              "      <td>0.981063</td>\n",
              "      <td>1.0</td>\n",
              "      <td>1.0</td>\n",
              "      <td>1.0</td>\n",
              "      <td>1.0</td>\n",
              "    </tr>\n",
              "    <tr>\n",
              "      <th>precision</th>\n",
              "      <td>0.956238</td>\n",
              "      <td>0.987598</td>\n",
              "      <td>0.992419</td>\n",
              "      <td>0.989664</td>\n",
              "      <td>0.959682</td>\n",
              "      <td>1.0</td>\n",
              "      <td>1.0</td>\n",
              "      <td>1.0</td>\n",
              "      <td>1.0</td>\n",
              "    </tr>\n",
              "    <tr>\n",
              "      <th>recall</th>\n",
              "      <td>0.931298</td>\n",
              "      <td>0.962468</td>\n",
              "      <td>0.999364</td>\n",
              "      <td>0.974555</td>\n",
              "      <td>0.999364</td>\n",
              "      <td>1.0</td>\n",
              "      <td>1.0</td>\n",
              "      <td>1.0</td>\n",
              "      <td>1.0</td>\n",
              "    </tr>\n",
              "    <tr>\n",
              "      <th>f1</th>\n",
              "      <td>0.943603</td>\n",
              "      <td>0.974871</td>\n",
              "      <td>0.995880</td>\n",
              "      <td>0.982051</td>\n",
              "      <td>0.979121</td>\n",
              "      <td>1.0</td>\n",
              "      <td>1.0</td>\n",
              "      <td>1.0</td>\n",
              "      <td>1.0</td>\n",
              "    </tr>\n",
              "    <tr>\n",
              "      <th>auc</th>\n",
              "      <td>0.948609</td>\n",
              "      <td>0.976402</td>\n",
              "      <td>0.996630</td>\n",
              "      <td>0.983208</td>\n",
              "      <td>0.982897</td>\n",
              "      <td>1.0</td>\n",
              "      <td>1.0</td>\n",
              "      <td>1.0</td>\n",
              "      <td>1.0</td>\n",
              "    </tr>\n",
              "  </tbody>\n",
              "</table>\n",
              "</div>"
            ],
            "text/plain": [
              "                gnb       LDA       QDA    logreg  ...  tree   RF  Adaboost   GB\n",
              "accuracy   0.950537  0.977954  0.996326  0.984172  ...   1.0  1.0       1.0  1.0\n",
              "precision  0.956238  0.987598  0.992419  0.989664  ...   1.0  1.0       1.0  1.0\n",
              "recall     0.931298  0.962468  0.999364  0.974555  ...   1.0  1.0       1.0  1.0\n",
              "f1         0.943603  0.974871  0.995880  0.982051  ...   1.0  1.0       1.0  1.0\n",
              "auc        0.948609  0.976402  0.996630  0.983208  ...   1.0  1.0       1.0  1.0\n",
              "\n",
              "[5 rows x 9 columns]"
            ]
          },
          "metadata": {},
          "execution_count": 69
        }
      ]
    },
    {
      "cell_type": "code",
      "metadata": {
        "colab": {
          "base_uri": "https://localhost:8080/",
          "height": 224
        },
        "id": "QqyqkRS_7UMd",
        "outputId": "a3b36623-5309-4abd-c12f-852a632c9fb1"
      },
      "source": [
        "pd.DataFrame( {'gnb': perf_GN_test, \n",
        "               'LDA': perf_LDA_test, \n",
        "               'QDA' : perf_QDA_test, \n",
        "               'logreg' : perf_logreg_test,\n",
        "               'knn' : perf_knn_test,\n",
        "               'tree' : perf_tree_test,\n",
        "               'RF' : perf_RF_test,\n",
        "               'Adaboost' : perf_ada_test,\n",
        "               'GB' : perf_GB_test})"
      ],
      "execution_count": null,
      "outputs": [
        {
          "output_type": "execute_result",
          "data": {
            "text/html": [
              "<div>\n",
              "<style scoped>\n",
              "    .dataframe tbody tr th:only-of-type {\n",
              "        vertical-align: middle;\n",
              "    }\n",
              "\n",
              "    .dataframe tbody tr th {\n",
              "        vertical-align: top;\n",
              "    }\n",
              "\n",
              "    .dataframe thead th {\n",
              "        text-align: right;\n",
              "    }\n",
              "</style>\n",
              "<table border=\"1\" class=\"dataframe\">\n",
              "  <thead>\n",
              "    <tr style=\"text-align: right;\">\n",
              "      <th></th>\n",
              "      <th>gnb</th>\n",
              "      <th>LDA</th>\n",
              "      <th>QDA</th>\n",
              "      <th>logreg</th>\n",
              "      <th>knn</th>\n",
              "      <th>tree</th>\n",
              "      <th>RF</th>\n",
              "      <th>Adaboost</th>\n",
              "      <th>GB</th>\n",
              "    </tr>\n",
              "  </thead>\n",
              "  <tbody>\n",
              "    <tr>\n",
              "      <th>accuracy</th>\n",
              "      <td>0.971671</td>\n",
              "      <td>0.988669</td>\n",
              "      <td>0.990085</td>\n",
              "      <td>0.991501</td>\n",
              "      <td>0.958924</td>\n",
              "      <td>0.980170</td>\n",
              "      <td>0.990085</td>\n",
              "      <td>0.990085</td>\n",
              "      <td>0.990085</td>\n",
              "    </tr>\n",
              "    <tr>\n",
              "      <th>precision</th>\n",
              "      <td>0.732394</td>\n",
              "      <td>0.909091</td>\n",
              "      <td>0.910714</td>\n",
              "      <td>0.927273</td>\n",
              "      <td>0.662162</td>\n",
              "      <td>0.854545</td>\n",
              "      <td>0.960000</td>\n",
              "      <td>0.925926</td>\n",
              "      <td>0.942308</td>\n",
              "    </tr>\n",
              "    <tr>\n",
              "      <th>recall</th>\n",
              "      <td>0.981132</td>\n",
              "      <td>0.943396</td>\n",
              "      <td>0.962264</td>\n",
              "      <td>0.962264</td>\n",
              "      <td>0.924528</td>\n",
              "      <td>0.886792</td>\n",
              "      <td>0.905660</td>\n",
              "      <td>0.943396</td>\n",
              "      <td>0.924528</td>\n",
              "    </tr>\n",
              "    <tr>\n",
              "      <th>f1</th>\n",
              "      <td>0.838710</td>\n",
              "      <td>0.925926</td>\n",
              "      <td>0.935780</td>\n",
              "      <td>0.944444</td>\n",
              "      <td>0.771654</td>\n",
              "      <td>0.870370</td>\n",
              "      <td>0.932039</td>\n",
              "      <td>0.934579</td>\n",
              "      <td>0.933333</td>\n",
              "    </tr>\n",
              "    <tr>\n",
              "      <th>auc</th>\n",
              "      <td>0.976018</td>\n",
              "      <td>0.967870</td>\n",
              "      <td>0.977304</td>\n",
              "      <td>0.978069</td>\n",
              "      <td>0.943122</td>\n",
              "      <td>0.937271</td>\n",
              "      <td>0.951299</td>\n",
              "      <td>0.968635</td>\n",
              "      <td>0.959967</td>\n",
              "    </tr>\n",
              "  </tbody>\n",
              "</table>\n",
              "</div>"
            ],
            "text/plain": [
              "                gnb       LDA       QDA  ...        RF  Adaboost        GB\n",
              "accuracy   0.971671  0.988669  0.990085  ...  0.990085  0.990085  0.990085\n",
              "precision  0.732394  0.909091  0.910714  ...  0.960000  0.925926  0.942308\n",
              "recall     0.981132  0.943396  0.962264  ...  0.905660  0.943396  0.924528\n",
              "f1         0.838710  0.925926  0.935780  ...  0.932039  0.934579  0.933333\n",
              "auc        0.976018  0.967870  0.977304  ...  0.951299  0.968635  0.959967\n",
              "\n",
              "[5 rows x 9 columns]"
            ]
          },
          "metadata": {},
          "execution_count": 70
        }
      ]
    },
    {
      "cell_type": "markdown",
      "metadata": {
        "id": "HCBvHl4Q38nY"
      },
      "source": [
        "## **Recherche des meilleurs hyparametres pour knn, tree, RF, adaboost and GB**"
      ]
    },
    {
      "cell_type": "markdown",
      "metadata": {
        "id": "oCh_fmwD41_S"
      },
      "source": [
        "on va faire un gridSearch pour ses 5 modèles pour trouver les meilleurs hyperparamètres."
      ]
    },
    {
      "cell_type": "code",
      "metadata": {
        "id": "BYV2HGzw4Qi9"
      },
      "source": [
        "#### initiliations des grilles de parametres\n",
        "params = {'knn' : {'n_neighbors' :list(range(1,30))},\n",
        "          'tree' : {'max_depth': [None,1,3, 5, 7],\n",
        "              'min_samples_split': [2, 5, 10]},\n",
        "          'RF' : {'n_estimators' : [int(x) for x in np.linspace(10,200, num = 25) ],\n",
        "                'max_features' : ['auto', 'sqrt'],\n",
        "                 'max_depth' : [None,1,3, 5, 7], \n",
        "                'bootstrap' : [False,True]}, # [int(x) for x in np.linspace(10, 110, num = 11)],\n",
        "                #'oob_score' : [F]},\n",
        "          'Adaboost' : {'n_estimators' : [int(x) for x in np.linspace(10,200, num = 25)],\n",
        "                       'learning_rate' : [0.001,0.01,0.1,0.2,0.5]},\n",
        "                       #'max_depth' : [3, 5, 7,9, None]},\n",
        "          'GB' : {'learning_rate' : [0.3, 0.2, 0.1, 0.01, 0.001],\n",
        "                 'n_estimators' : [int(x) for x in np.linspace(10,200, num = 25) ],\n",
        "                 'max_depth' : [7,None]}\n",
        "         }\n",
        "\n",
        "### Initialisation des models\n",
        "def get_models():\n",
        "    models = dict()\n",
        "    models['GB'] = GradientBoostingClassifier()\n",
        "    models['RF'] = RandomForestClassifier()\n",
        "    models['knn'] = KNeighborsClassifier()\n",
        "    models['tree'] = DecisionTreeClassifier()\n",
        "    models['Adaboost'] = AdaBoostClassifier()\n",
        "    \n",
        "    return models\n",
        "\n",
        "models_sans_hyp = {'gnb' : gnb,\n",
        " 'lda' : lda,\n",
        " 'qda' : qda,\n",
        " 'logreg' : logreg}\n",
        "  "
      ],
      "execution_count": null,
      "outputs": []
    },
    {
      "cell_type": "markdown",
      "metadata": {
        "id": "zEcDgpMrBENP"
      },
      "source": [
        "### **A. Recherches des meilleurs hyperparamètres**"
      ]
    },
    {
      "cell_type": "markdown",
      "metadata": {
        "id": "_77E0KiBdNBC"
      },
      "source": [
        ""
      ]
    },
    {
      "cell_type": "code",
      "metadata": {
        "colab": {
          "base_uri": "https://localhost:8080/"
        },
        "id": "Gt6ZKSj94nRo",
        "outputId": "f0290098-7664-41bb-9dcf-bf3f83a16d60"
      },
      "source": [
        "\n",
        "import pandas as pd\n",
        "from sklearn.model_selection import KFold\n",
        "from sklearn import metrics\n",
        "from sklearn.metrics import make_scorer\n",
        "from sklearn.model_selection import GridSearchCV\n",
        "import time \n",
        "\n",
        "models = get_models()\n",
        "perf = {}\n",
        "model_trained = {}\n",
        "X_train_hyp, X_val, y_train_hyp, y_val =  train_test_split(X_train, \n",
        "                                                     y_train, \n",
        "                                                     test_size=1/4)\n",
        "\n",
        "#scoring = {'accuracy': make_scorer(accuracy_score),'prec': 'precision','f1_score' : 'f1', 'recall' : 'recall'}\n",
        "i = 1\n",
        "for name, model in models.items():\n",
        "    print(\"-----------------tunning hyperparameters model {} : {}----------------\".format(i, name))\n",
        "    i+=1\n",
        "    start = time.time()\n",
        "    model_i = GridSearchCV(model,\n",
        "                  param_grid=params[name],cv = 3,\n",
        "                  scoring='recall', refit='recall', verbose=2, n_jobs=-1 ,return_train_score=True).fit(X_train_hyp, y_train_hyp)\n",
        "    \n",
        "    print('Execution time {}   : {} seconds'.format(name,time.time() - start))\n",
        "\n",
        "    model_trained[name] = model_i\n",
        "    y_pred = model_i.predict(X_val)\n",
        "    perf[name] = eval_metrics(y = y_val, y_pred = y_pred)\n",
        "#stackModel.fit(X_train, y_train)\n",
        "#y_pred = stackModel.predict(X_test)\n",
        "#perf['stack'] = scoring_function(y_test, y_pred)"
      ],
      "execution_count": null,
      "outputs": [
        {
          "metadata": {
            "tags": null
          },
          "name": "stdout",
          "output_type": "stream",
          "text": [
            "-----------------tunning hyperparameters model 1 : GB----------------\n",
            "Fitting 3 folds for each of 250 candidates, totalling 750 fits\n"
          ]
        },
        {
          "metadata": {
            "tags": null
          },
          "name": "stderr",
          "output_type": "stream",
          "text": [
            "[Parallel(n_jobs=-1)]: Using backend LokyBackend with 2 concurrent workers.\n",
            "[Parallel(n_jobs=-1)]: Done  37 tasks      | elapsed:   50.4s\n",
            "[Parallel(n_jobs=-1)]: Done 158 tasks      | elapsed:  3.3min\n",
            "[Parallel(n_jobs=-1)]: Done 361 tasks      | elapsed: 10.7min\n",
            "[Parallel(n_jobs=-1)]: Done 644 tasks      | elapsed: 30.5min\n",
            "[Parallel(n_jobs=-1)]: Done 750 out of 750 | elapsed: 40.8min finished\n"
          ]
        },
        {
          "metadata": {
            "tags": null
          },
          "name": "stdout",
          "output_type": "stream",
          "text": [
            "Execution time GB   : 2451.6676666736603 seconds\n",
            "-----------------tunning hyperparameters model 2 : RF----------------\n",
            "Fitting 3 folds for each of 500 candidates, totalling 1500 fits\n"
          ]
        },
        {
          "output_type": "stream",
          "name": "stderr",
          "text": [
            "[Parallel(n_jobs=-1)]: Using backend LokyBackend with 2 concurrent workers.\n",
            "[Parallel(n_jobs=-1)]: Done  49 tasks      | elapsed:   25.4s\n",
            "[Parallel(n_jobs=-1)]: Done 170 tasks      | elapsed:  1.9min\n",
            "[Parallel(n_jobs=-1)]: Done 373 tasks      | elapsed:  3.1min\n",
            "[Parallel(n_jobs=-1)]: Done 656 tasks      | elapsed:  5.9min\n",
            "[Parallel(n_jobs=-1)]: Done 1021 tasks      | elapsed:  9.0min\n",
            "[Parallel(n_jobs=-1)]: Done 1466 tasks      | elapsed: 12.1min\n",
            "[Parallel(n_jobs=-1)]: Done 1500 out of 1500 | elapsed: 12.6min finished\n"
          ]
        },
        {
          "output_type": "stream",
          "name": "stdout",
          "text": [
            "Execution time RF   : 756.1101734638214 seconds\n",
            "-----------------tunning hyperparameters model 3 : knn----------------\n",
            "Fitting 3 folds for each of 29 candidates, totalling 87 fits\n"
          ]
        },
        {
          "output_type": "stream",
          "name": "stderr",
          "text": [
            "[Parallel(n_jobs=-1)]: Using backend LokyBackend with 2 concurrent workers.\n",
            "[Parallel(n_jobs=-1)]: Done  37 tasks      | elapsed:   15.6s\n",
            "[Parallel(n_jobs=-1)]: Done  87 out of  87 | elapsed:   39.5s finished\n"
          ]
        },
        {
          "output_type": "stream",
          "name": "stdout",
          "text": [
            "Execution time knn   : 39.61282420158386 seconds\n",
            "-----------------tunning hyperparameters model 4 : tree----------------\n",
            "Fitting 3 folds for each of 15 candidates, totalling 45 fits\n"
          ]
        },
        {
          "output_type": "stream",
          "name": "stderr",
          "text": [
            "[Parallel(n_jobs=-1)]: Using backend LokyBackend with 2 concurrent workers.\n",
            "[Parallel(n_jobs=-1)]: Done  42 out of  45 | elapsed:    2.0s remaining:    0.1s\n",
            "[Parallel(n_jobs=-1)]: Done  45 out of  45 | elapsed:    2.1s finished\n"
          ]
        },
        {
          "output_type": "stream",
          "name": "stdout",
          "text": [
            "Execution time tree   : 2.339184522628784 seconds\n",
            "-----------------tunning hyperparameters model 5 : Adaboost----------------\n",
            "Fitting 3 folds for each of 125 candidates, totalling 375 fits\n"
          ]
        },
        {
          "output_type": "stream",
          "name": "stderr",
          "text": [
            "[Parallel(n_jobs=-1)]: Using backend LokyBackend with 2 concurrent workers.\n",
            "[Parallel(n_jobs=-1)]: Done  37 tasks      | elapsed:   29.1s\n",
            "[Parallel(n_jobs=-1)]: Done 158 tasks      | elapsed:  3.7min\n",
            "[Parallel(n_jobs=-1)]: Done 361 tasks      | elapsed:  8.5min\n",
            "[Parallel(n_jobs=-1)]: Done 375 out of 375 | elapsed:  9.1min finished\n"
          ]
        },
        {
          "output_type": "stream",
          "name": "stdout",
          "text": [
            "Execution time Adaboost   : 548.4180133342743 seconds\n"
          ]
        }
      ]
    },
    {
      "cell_type": "markdown",
      "metadata": {
        "id": "YT5vGn2GU5k8"
      },
      "source": [
        "### **B. Performance des modèles avec meilleurs hyperparamètres sur le jeux de données de validation**"
      ]
    },
    {
      "cell_type": "code",
      "metadata": {
        "id": "k4UPO_0uWqTj",
        "colab": {
          "base_uri": "https://localhost:8080/"
        },
        "outputId": "b334fb68-ba11-4121-e1ec-08140d2656d7"
      },
      "source": [
        "for name, _ in model_trained.items():\n",
        "  print(model_trained[name].best_estimator_)"
      ],
      "execution_count": null,
      "outputs": [
        {
          "output_type": "stream",
          "name": "stdout",
          "text": [
            "GradientBoostingClassifier(ccp_alpha=0.0, criterion='friedman_mse', init=None,\n",
            "                           learning_rate=0.3, loss='deviance', max_depth=7,\n",
            "                           max_features=None, max_leaf_nodes=None,\n",
            "                           min_impurity_decrease=0.0, min_impurity_split=None,\n",
            "                           min_samples_leaf=1, min_samples_split=2,\n",
            "                           min_weight_fraction_leaf=0.0, n_estimators=105,\n",
            "                           n_iter_no_change=None, presort='deprecated',\n",
            "                           random_state=None, subsample=1.0, tol=0.0001,\n",
            "                           validation_fraction=0.1, verbose=0,\n",
            "                           warm_start=False)\n",
            "RandomForestClassifier(bootstrap=False, ccp_alpha=0.0, class_weight=None,\n",
            "                       criterion='gini', max_depth=None, max_features='sqrt',\n",
            "                       max_leaf_nodes=None, max_samples=None,\n",
            "                       min_impurity_decrease=0.0, min_impurity_split=None,\n",
            "                       min_samples_leaf=1, min_samples_split=2,\n",
            "                       min_weight_fraction_leaf=0.0, n_estimators=57,\n",
            "                       n_jobs=None, oob_score=False, random_state=None,\n",
            "                       verbose=0, warm_start=False)\n",
            "KNeighborsClassifier(algorithm='auto', leaf_size=30, metric='minkowski',\n",
            "                     metric_params=None, n_jobs=None, n_neighbors=1, p=2,\n",
            "                     weights='uniform')\n",
            "DecisionTreeClassifier(ccp_alpha=0.0, class_weight=None, criterion='gini',\n",
            "                       max_depth=None, max_features=None, max_leaf_nodes=None,\n",
            "                       min_impurity_decrease=0.0, min_impurity_split=None,\n",
            "                       min_samples_leaf=1, min_samples_split=2,\n",
            "                       min_weight_fraction_leaf=0.0, presort='deprecated',\n",
            "                       random_state=None, splitter='best')\n",
            "AdaBoostClassifier(algorithm='SAMME.R', base_estimator=None, learning_rate=0.5,\n",
            "                   n_estimators=81, random_state=None)\n"
          ]
        }
      ]
    },
    {
      "cell_type": "code",
      "metadata": {
        "colab": {
          "base_uri": "https://localhost:8080/",
          "height": 204
        },
        "id": "I1rIT5mhUnDo",
        "outputId": "2dd0db55-4977-4fb9-9ed6-70db4bbc526f"
      },
      "source": [
        " pd.DataFrame(perf)"
      ],
      "execution_count": null,
      "outputs": [
        {
          "output_type": "execute_result",
          "data": {
            "text/html": [
              "<div>\n",
              "<style scoped>\n",
              "    .dataframe tbody tr th:only-of-type {\n",
              "        vertical-align: middle;\n",
              "    }\n",
              "\n",
              "    .dataframe tbody tr th {\n",
              "        vertical-align: top;\n",
              "    }\n",
              "\n",
              "    .dataframe thead th {\n",
              "        text-align: right;\n",
              "    }\n",
              "</style>\n",
              "<table border=\"1\" class=\"dataframe\">\n",
              "  <thead>\n",
              "    <tr style=\"text-align: right;\">\n",
              "      <th></th>\n",
              "      <th>GB</th>\n",
              "      <th>RF</th>\n",
              "      <th>knn</th>\n",
              "      <th>tree</th>\n",
              "      <th>Adaboost</th>\n",
              "    </tr>\n",
              "  </thead>\n",
              "  <tbody>\n",
              "    <tr>\n",
              "      <th>accuracy</th>\n",
              "      <td>0.993220</td>\n",
              "      <td>0.993220</td>\n",
              "      <td>0.976271</td>\n",
              "      <td>0.986441</td>\n",
              "      <td>0.988701</td>\n",
              "    </tr>\n",
              "    <tr>\n",
              "      <th>precision</th>\n",
              "      <td>0.986877</td>\n",
              "      <td>0.989446</td>\n",
              "      <td>0.947236</td>\n",
              "      <td>0.976501</td>\n",
              "      <td>0.984169</td>\n",
              "    </tr>\n",
              "    <tr>\n",
              "      <th>recall</th>\n",
              "      <td>0.997347</td>\n",
              "      <td>0.994695</td>\n",
              "      <td>1.000000</td>\n",
              "      <td>0.992042</td>\n",
              "      <td>0.989390</td>\n",
              "    </tr>\n",
              "    <tr>\n",
              "      <th>f1</th>\n",
              "      <td>0.992084</td>\n",
              "      <td>0.992063</td>\n",
              "      <td>0.972903</td>\n",
              "      <td>0.984211</td>\n",
              "      <td>0.986772</td>\n",
              "    </tr>\n",
              "    <tr>\n",
              "      <th>auc</th>\n",
              "      <td>0.993752</td>\n",
              "      <td>0.993410</td>\n",
              "      <td>0.979331</td>\n",
              "      <td>0.987163</td>\n",
              "      <td>0.988789</td>\n",
              "    </tr>\n",
              "  </tbody>\n",
              "</table>\n",
              "</div>"
            ],
            "text/plain": [
              "                 GB        RF       knn      tree  Adaboost\n",
              "accuracy   0.993220  0.993220  0.976271  0.986441  0.988701\n",
              "precision  0.986877  0.989446  0.947236  0.976501  0.984169\n",
              "recall     0.997347  0.994695  1.000000  0.992042  0.989390\n",
              "f1         0.992084  0.992063  0.972903  0.984211  0.986772\n",
              "auc        0.993752  0.993410  0.979331  0.987163  0.988789"
            ]
          },
          "metadata": {},
          "execution_count": 55
        }
      ]
    },
    {
      "cell_type": "markdown",
      "metadata": {
        "id": "NO6_HhfCzgNk"
      },
      "source": [
        "### **C .Comparaison des differents classifiers (tuned avec les meilleurs hyparamètres) sur les données de train**  "
      ]
    },
    {
      "cell_type": "code",
      "metadata": {
        "id": "k0A77zrpY-8S"
      },
      "source": [
        "## regroupe tous les modèles  \n",
        "\n",
        "models_tuned = {}\n",
        "for name, _ in models.items():\n",
        "  models_tuned[name] = model_trained[name].best_estimator_\n",
        "models_tuned\n",
        "for name,model in models_sans_hyp.items():\n",
        "  models_tuned[name] = model "
      ],
      "execution_count": null,
      "outputs": []
    },
    {
      "cell_type": "code",
      "metadata": {
        "id": "YW67PVNX1AZJ"
      },
      "source": [
        "import pandas as pd\n",
        "from sklearn.model_selection import KFold\n",
        "\n",
        "kf = KFold(n_splits= 10,shuffle=True)\n",
        "result_perf_train = {'accuracy' : pd.DataFrame(),\n",
        "              'precision' : pd.DataFrame(),\n",
        "              'recall' : pd.DataFrame(),\n",
        "              'f1' : pd.DataFrame(),\n",
        "              'auc' : pd.DataFrame()}\n",
        "\n",
        "result_perf_test = {'accuracy' : pd.DataFrame(),\n",
        "              'precision' : pd.DataFrame(),\n",
        "              'recall' : pd.DataFrame(),\n",
        "              'f1' : pd.DataFrame(),\n",
        "              'auc' : pd.DataFrame()}\n",
        "\n",
        "models_tuned_fit = {} ## sauve tout les modèles entrainés dans ce dictionnaire \n",
        "j = 0\n",
        "for train_index, test_index in kf.split(X_train):\n",
        "  ### selection du fold\n",
        "    X_train_kf, X_test_kf = X_train.iloc[train_index,:], X_train.iloc[test_index,:] \n",
        "    y_train_kf, y_test_kf = y_train.iloc[train_index], y_train.iloc[test_index]\n",
        "    \n",
        "    ### training and testing of models\n",
        "    for name, model in models_tuned.items():\n",
        "        modelfit = model.fit(X_train_kf, y_train_kf)\n",
        "        models_tuned_fit[name] = modelfit\n",
        "        pred_train_kf= modelfit.predict(X_train_kf)\n",
        "        pred_test_kf = modelfit.predict(X_test_kf)\n",
        "        \n",
        "        ##### computation of the performances \n",
        "        perf_train = eval_metrics(y_train_kf,pred_train_kf)\n",
        "        perf_test = eval_metrics(y_test_kf,pred_test_kf)\n",
        "        \n",
        "        for perf_indicator, val_indicator in perf_train.items():\n",
        "          result_perf_train[perf_indicator].loc[j,name] = val_indicator\n",
        "        for perf_indicator, val_indicator in perf_test.items():\n",
        "          result_perf_test[perf_indicator].loc[j,name] = val_indicator\n",
        "    j+=1\n",
        "#data = [accuracy_train, accuracy_test, precision_train, precision_test, recall_train, recall_test, f1_train, f1_test, auc_train, auc_test]\n"
      ],
      "execution_count": null,
      "outputs": []
    },
    {
      "cell_type": "code",
      "metadata": {
        "id": "H-uhZdNReeKn"
      },
      "source": [
        "def boxplot_metrics_cv(name):\n",
        "  f = plt.figure(figsize=(20,5))\n",
        "  ax = plt.subplot(131)\n",
        "  ax.boxplot(result_perf_test[name[0]].T,labels = list(result_perf_train[name[0]].columns),showmeans=True)\n",
        "  ax.set_title(name[0] , fontdict = {'fontsize' : 16})\n",
        "  ax = plt.subplot(132)\n",
        "  ax.boxplot(result_perf_test[name[1]].T,labels = list(result_perf_test[name[1]].columns),showmeans=True)\n",
        "  ax.set_title(name[1] , fontdict = {'fontsize' : 16})\n",
        "  ax = plt.subplot(133)\n",
        "  ax.boxplot(result_perf_test[name[2]].T,labels = list(result_perf_test[name[2]].columns),showmeans=True)\n",
        "  ax.set_title(name[2] , fontdict = {'fontsize' : 16})\n",
        "  plt.show()"
      ],
      "execution_count": null,
      "outputs": []
    },
    {
      "cell_type": "code",
      "metadata": {
        "colab": {
          "base_uri": "https://localhost:8080/",
          "height": 338
        },
        "id": "Q1MhZV7hZdqs",
        "outputId": "6be61fcb-ad3f-43d7-86ac-8523e9ce3398"
      },
      "source": [
        "name = [\"recall\",\"precision\",\"f1\"]\n",
        "boxplot_metrics_cv(name)"
      ],
      "execution_count": null,
      "outputs": [
        {
          "output_type": "display_data",
          "data": {
            "image/png": "[encoded data removed]",
            "text/plain": [
              "<Figure size 1440x360 with 3 Axes>"
            ]
          },
          "metadata": {
            "needs_background": "light"
          }
        }
      ]
    },
    {
      "cell_type": "code",
      "metadata": {
        "colab": {
          "base_uri": "https://localhost:8080/",
          "height": 338
        },
        "id": "YrXRPt0Yd1yy",
        "outputId": "5780acf5-ff30-4c4f-8958-a07851b45041"
      },
      "source": [
        "name = \"precision\"\n",
        "boxplot_metrics_cv(name)"
      ],
      "execution_count": null,
      "outputs": [
        {
          "output_type": "display_data",
          "data": {
            "image/png": "[encoded data removed]",
            "text/plain": [
              "<Figure size 1080x360 with 2 Axes>"
            ]
          },
          "metadata": {
            "needs_background": "light"
          }
        }
      ]
    },
    {
      "cell_type": "code",
      "metadata": {
        "colab": {
          "base_uri": "https://localhost:8080/",
          "height": 338
        },
        "id": "8ITebUWHeBLc",
        "outputId": "6b4ad8ee-3857-4cb6-920b-a538bd05b80b"
      },
      "source": [
        "name = \"recall\"\n",
        "boxplot_metrics_cv(name)"
      ],
      "execution_count": null,
      "outputs": [
        {
          "output_type": "display_data",
          "data": {
            "image/png": "[encoded data removed]",
            "text/plain": [
              "<Figure size 1080x360 with 2 Axes>"
            ]
          },
          "metadata": {
            "needs_background": "light"
          }
        }
      ]
    },
    {
      "cell_type": "code",
      "metadata": {
        "colab": {
          "base_uri": "https://localhost:8080/",
          "height": 276
        },
        "id": "o8ECq1llgL0I",
        "outputId": "044fe7b1-255f-4b73-cffb-e06d79cef29c"
      },
      "source": [
        "name = 'f1'\n",
        "boxplot_metrics_cv(name)"
      ],
      "execution_count": null,
      "outputs": [
        {
          "output_type": "display_data",
          "data": {
            "image/png": "[encoded data removed]",
            "text/plain": [
              "<Figure size 1080x360 with 2 Axes>"
            ]
          },
          "metadata": {
            "needs_background": "light"
          }
        }
      ]
    },
    {
      "cell_type": "code",
      "metadata": {
        "colab": {
          "base_uri": "https://localhost:8080/",
          "height": 276
        },
        "id": "1y8oGYMogu--",
        "outputId": "336917d2-a667-4849-9d23-ae029a10995e"
      },
      "source": [
        "name = 'auc'\n",
        "boxplot_metrics_cv(name)"
      ],
      "execution_count": null,
      "outputs": [
        {
          "output_type": "display_data",
          "data": {
            "image/png": "[encoded data removed]",
            "text/plain": [
              "<Figure size 1080x360 with 2 Axes>"
            ]
          },
          "metadata": {
            "needs_background": "light"
          }
        }
      ]
    },
    {
      "cell_type": "markdown",
      "metadata": {
        "id": "zxvpegDgfBA2"
      },
      "source": [
        "## **Performance finale sur les données de test**\n",
        "On évalue les différents modèles sur les données de test *X_test_originel* pou évaluer leurs performances sur un jeu jamais rencontré."
      ]
    },
    {
      "cell_type": "code",
      "metadata": {
        "id": "c0Us_pAqaVsH"
      },
      "source": [
        "def evaluate_models(models = models_tuned_fit, X = X_test_originel,Y=y_test_originel):\n",
        "  \"Cette fonction evalue la performances des modèles entrainés sur le jeux de données (X,Y)\"\n",
        "  \n",
        "  result_perf = {} # dictionnaire contenant les métrics d'évaluation des différents modèles\n",
        "  pred_final =  {}\n",
        "  for name, model in models.items():\n",
        "      \n",
        "      pred= model.predict(X)  #\n",
        "      pred_final[name] = pred\n",
        "      ##### computation of the performances \n",
        "      perf = eval_metrics(Y,pred)\n",
        "      result_perf[name] = perf\n",
        "  return pd.DataFrame(result_perf), pred_final"
      ],
      "execution_count": null,
      "outputs": []
    },
    {
      "cell_type": "code",
      "metadata": {
        "id": "LSPszTMgZf36"
      },
      "source": [
        "performance_test_final, pred_test_originel = evaluate_models()"
      ],
      "execution_count": null,
      "outputs": []
    },
    {
      "cell_type": "code",
      "metadata": {
        "id": "hj_9ivUqbD2H",
        "colab": {
          "base_uri": "https://localhost:8080/",
          "height": 205
        },
        "outputId": "b5da9a5b-3e3e-438e-eabf-885cfbda5cf9"
      },
      "source": [
        "performance_test_final"
      ],
      "execution_count": null,
      "outputs": [
        {
          "output_type": "execute_result",
          "data": {
            "text/html": [
              "<div>\n",
              "<style scoped>\n",
              "    .dataframe tbody tr th:only-of-type {\n",
              "        vertical-align: middle;\n",
              "    }\n",
              "\n",
              "    .dataframe tbody tr th {\n",
              "        vertical-align: top;\n",
              "    }\n",
              "\n",
              "    .dataframe thead th {\n",
              "        text-align: right;\n",
              "    }\n",
              "</style>\n",
              "<table border=\"1\" class=\"dataframe\">\n",
              "  <thead>\n",
              "    <tr style=\"text-align: right;\">\n",
              "      <th></th>\n",
              "      <th>GB</th>\n",
              "      <th>RF</th>\n",
              "      <th>knn</th>\n",
              "      <th>tree</th>\n",
              "      <th>Adaboost</th>\n",
              "      <th>gnb</th>\n",
              "      <th>lda</th>\n",
              "      <th>qda</th>\n",
              "      <th>logreg</th>\n",
              "    </tr>\n",
              "  </thead>\n",
              "  <tbody>\n",
              "    <tr>\n",
              "      <th>accuracy</th>\n",
              "      <td>0.987252</td>\n",
              "      <td>0.990085</td>\n",
              "      <td>0.971671</td>\n",
              "      <td>0.975921</td>\n",
              "      <td>0.983003</td>\n",
              "      <td>0.973088</td>\n",
              "      <td>0.988669</td>\n",
              "      <td>0.991501</td>\n",
              "      <td>0.990085</td>\n",
              "    </tr>\n",
              "    <tr>\n",
              "      <th>precision</th>\n",
              "      <td>0.907407</td>\n",
              "      <td>0.960000</td>\n",
              "      <td>0.753846</td>\n",
              "      <td>0.800000</td>\n",
              "      <td>0.847458</td>\n",
              "      <td>0.742857</td>\n",
              "      <td>0.909091</td>\n",
              "      <td>0.927273</td>\n",
              "      <td>0.925926</td>\n",
              "    </tr>\n",
              "    <tr>\n",
              "      <th>recall</th>\n",
              "      <td>0.924528</td>\n",
              "      <td>0.905660</td>\n",
              "      <td>0.924528</td>\n",
              "      <td>0.905660</td>\n",
              "      <td>0.943396</td>\n",
              "      <td>0.981132</td>\n",
              "      <td>0.943396</td>\n",
              "      <td>0.962264</td>\n",
              "      <td>0.943396</td>\n",
              "    </tr>\n",
              "    <tr>\n",
              "      <th>f1</th>\n",
              "      <td>0.915888</td>\n",
              "      <td>0.932039</td>\n",
              "      <td>0.830508</td>\n",
              "      <td>0.849558</td>\n",
              "      <td>0.892857</td>\n",
              "      <td>0.845528</td>\n",
              "      <td>0.925926</td>\n",
              "      <td>0.944444</td>\n",
              "      <td>0.934579</td>\n",
              "    </tr>\n",
              "    <tr>\n",
              "      <th>auc</th>\n",
              "      <td>0.958436</td>\n",
              "      <td>0.951299</td>\n",
              "      <td>0.950013</td>\n",
              "      <td>0.943642</td>\n",
              "      <td>0.964807</td>\n",
              "      <td>0.976783</td>\n",
              "      <td>0.967870</td>\n",
              "      <td>0.978069</td>\n",
              "      <td>0.968635</td>\n",
              "    </tr>\n",
              "  </tbody>\n",
              "</table>\n",
              "</div>"
            ],
            "text/plain": [
              "                 GB        RF       knn  ...       lda       qda    logreg\n",
              "accuracy   0.987252  0.990085  0.971671  ...  0.988669  0.991501  0.990085\n",
              "precision  0.907407  0.960000  0.753846  ...  0.909091  0.927273  0.925926\n",
              "recall     0.924528  0.905660  0.924528  ...  0.943396  0.962264  0.943396\n",
              "f1         0.915888  0.932039  0.830508  ...  0.925926  0.944444  0.934579\n",
              "auc        0.958436  0.951299  0.950013  ...  0.967870  0.978069  0.968635\n",
              "\n",
              "[5 rows x 9 columns]"
            ]
          },
          "metadata": {},
          "execution_count": 86
        }
      ]
    },
    {
      "cell_type": "code",
      "metadata": {
        "colab": {
          "base_uri": "https://localhost:8080/"
        },
        "id": "q-RHX0BHtsc5",
        "outputId": "30f78f96-60f3-43ff-d16e-75cd1c74e994"
      },
      "source": [
        "y_test_originel.value_counts()"
      ],
      "execution_count": null,
      "outputs": [
        {
          "output_type": "execute_result",
          "data": {
            "text/plain": [
              "0    653\n",
              "1     53\n",
              "Name: FALL, dtype: int64"
            ]
          },
          "metadata": {},
          "execution_count": 91
        }
      ]
    },
    {
      "cell_type": "code",
      "metadata": {
        "id": "pfkcTF1ckZLk",
        "colab": {
          "base_uri": "https://localhost:8080/"
        },
        "outputId": "e1a62a26-cb45-4a8e-9b23-cfcd92197c0c"
      },
      "source": [
        "metrics.confusion_matrix(y_test_originel,pred_test_originel['RF'])"
      ],
      "execution_count": null,
      "outputs": [
        {
          "output_type": "execute_result",
          "data": {
            "text/plain": [
              "array([[651,   2],\n",
              "       [  5,  48]])"
            ]
          },
          "metadata": {},
          "execution_count": 87
        }
      ]
    },
    {
      "cell_type": "code",
      "metadata": {
        "id": "W0Y1pZT_m1EA",
        "colab": {
          "base_uri": "https://localhost:8080/"
        },
        "outputId": "79bc6ea4-1030-4933-df72-f274aa5d3675"
      },
      "source": [
        "metrics.confusion_matrix(y_test_originel,pred_test_originel['qda'])"
      ],
      "execution_count": null,
      "outputs": [
        {
          "output_type": "execute_result",
          "data": {
            "text/plain": [
              "array([[649,   4],\n",
              "       [  2,  51]])"
            ]
          },
          "metadata": {},
          "execution_count": 88
        }
      ]
    },
    {
      "cell_type": "code",
      "metadata": {
        "colab": {
          "base_uri": "https://localhost:8080/"
        },
        "id": "XzDEiP91tiz_",
        "outputId": "d21c9a96-1474-45ff-cbfc-379a9a732931"
      },
      "source": [
        "metrics.confusion_matrix(y_test_originel,pred_test_originel['logreg'])"
      ],
      "execution_count": null,
      "outputs": [
        {
          "output_type": "execute_result",
          "data": {
            "text/plain": [
              "array([[649,   4],\n",
              "       [  3,  50]])"
            ]
          },
          "metadata": {},
          "execution_count": 89
        }
      ]
    }
  ]
}